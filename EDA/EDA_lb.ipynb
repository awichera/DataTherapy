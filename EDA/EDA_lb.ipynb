{
 "cells": [
  {
   "cell_type": "code",
   "execution_count": 0,
   "metadata": {
    "application/vnd.databricks.v1+cell": {
     "cellMetadata": {
      "byteLimit": 2048000,
      "rowLimit": 10000
     },
     "inputWidgets": {},
     "nuid": "3ef69099-2358-4011-a717-b0f323ffe9b3",
     "showTitle": false,
     "tableResultSettingsMap": {},
     "title": ""
    }
   },
   "outputs": [],
   "source": [
    "from pyspark.sql import functions as f\n",
    "from functools import reduce"
   ]
  },
  {
   "cell_type": "code",
   "execution_count": 0,
   "metadata": {
    "application/vnd.databricks.v1+cell": {
     "cellMetadata": {
      "byteLimit": 2048000,
      "rowLimit": 10000
     },
     "inputWidgets": {},
     "nuid": "935c838b-307d-476d-8efe-3a8208a9d8fa",
     "showTitle": false,
     "tableResultSettingsMap": {},
     "title": ""
    }
   },
   "outputs": [],
   "source": [
    "rekurze = spark.read.table(\"rakathon_hackathon.rekurze.rekurze\")"
   ]
  },
  {
   "cell_type": "code",
   "execution_count": 0,
   "metadata": {
    "application/vnd.databricks.v1+cell": {
     "cellMetadata": {
      "byteLimit": 2048000,
      "rowLimit": 10000
     },
     "inputWidgets": {},
     "nuid": "cae230df-2638-41e8-a1aa-e4cd15048370",
     "showTitle": true,
     "tableResultSettingsMap": {},
     "title": "how many times id occures"
    }
   },
   "outputs": [],
   "source": [
    "display(rekurze.groupBy(\"id\").agg(f.count(\"*\").alias(\"id_count\"))\n",
    "        .orderBy(f.desc(\"id_count\"))\n",
    "        )\n",
    "\n",
    "print(rekurze.count())\n",
    "print(rekurze.select(\"id\").distinct().count())\n",
    "# We have 1 row per 1 id"
   ]
  },
  {
   "cell_type": "code",
   "execution_count": 0,
   "metadata": {
    "application/vnd.databricks.v1+cell": {
     "cellMetadata": {
      "byteLimit": 2048000,
      "rowLimit": 10000
     },
     "inputWidgets": {},
     "nuid": "3c32de2e-c0d1-41d4-969f-1818eba8dc82",
     "showTitle": false,
     "tableResultSettingsMap": {},
     "title": ""
    }
   },
   "outputs": [
    {
     "output_type": "display_data",
     "data": {
      "text/plain": [
       "Databricks visualization. Run in Databricks to view."
      ]
     },
     "metadata": {
      "application/vnd.databricks.v1.subcommand+json": {
       "baseErrorDetails": null,
       "bindings": {},
       "collapsed": false,
       "command": "%python\n__backend_agg_display_orig = display\n__backend_agg_dfs = []\ndef __backend_agg_display_new(df):\n    __backend_agg_df_modules = [\"pandas.core.frame\", \"databricks.koalas.frame\", \"pyspark.sql.dataframe\", \"pyspark.pandas.frame\", \"pyspark.sql.connect.dataframe\"]\n    if (type(df).__module__ in __backend_agg_df_modules and type(df).__name__ == 'DataFrame') or isinstance(df, list):\n        __backend_agg_dfs.append(df)\n\ndisplay = __backend_agg_display_new\n\ndef __backend_agg_user_code_fn():\n    import base64\n    exec(base64.standard_b64decode(\"ZGlzcGxheShyZWt1cnplKQ==\").decode())\n\ntry:\n    # run user code\n    __backend_agg_user_code_fn()\n\n    #reset display function\n    display = __backend_agg_display_orig\n\n    if len(__backend_agg_dfs) > 0:\n        # create a temp view\n        if type(__backend_agg_dfs[0]).__module__ == \"databricks.koalas.frame\":\n            # koalas dataframe\n            __backend_agg_dfs[0].to_spark().createOrReplaceTempView(\"DatabricksView2427ec2\")\n        elif type(__backend_agg_dfs[0]).__module__ == \"pandas.core.frame\" or isinstance(__backend_agg_dfs[0], list):\n            # pandas dataframe\n            spark.createDataFrame(__backend_agg_dfs[0]).createOrReplaceTempView(\"DatabricksView2427ec2\")\n        else:\n            __backend_agg_dfs[0].createOrReplaceTempView(\"DatabricksView2427ec2\")\n        #run backend agg\n        display(spark.sql(\"\"\"WITH q AS (select * from DatabricksView2427ec2) ,min_max AS (SELECT `novotvar_poradi`,(SELECT MAX(`novotvar_poradi`) FROM q) `target_column_max`,(SELECT MIN(`novotvar_poradi`) FROM q) `target_column_min` FROM q) ,histogram_meta AS (SELECT `novotvar_poradi`,`target_column_min` `min_value`,IF(`target_column_max` = `target_column_min`,`target_column_max` + 1,`target_column_max`) `max_value`,(`target_column_max` - `target_column_min`) / 50 `step` FROM min_max) SELECT IF(ISNULL(`novotvar_poradi`),NULL,LEAST(WIDTH_BUCKET(`novotvar_poradi`,`min_value`,`max_value`,50),50)) `novotvar_poradi_BIN`,FIRST(`min_value` + ((IF(ISNULL(`novotvar_poradi`),NULL,LEAST(WIDTH_BUCKET(`novotvar_poradi`,`min_value`,`max_value`,50),50)) - 1) * `step`)) `novotvar_poradi_BIN_LOWER_BOUND`,FIRST(`step`) `novotvar_poradi_BIN_STEP`,COUNT(`novotvar_poradi`) `COUNT` FROM histogram_meta GROUP BY `novotvar_poradi_BIN`\"\"\"))\n    else:\n        displayHTML(\"dataframe no longer exists. If you're using dataframe.display(), use display(dataframe) instead.\")\n\n\nfinally:\n    spark.sql(\"drop view if exists DatabricksView2427ec2\")\n    display = __backend_agg_display_orig\n    del __backend_agg_display_new\n    del __backend_agg_display_orig\n    del __backend_agg_dfs\n    del __backend_agg_user_code_fn\n\n",
       "commandTitle": "novotvar poradi",
       "commandType": "auto",
       "commandVersion": 0,
       "commentThread": [],
       "commentsVisible": false,
       "contentSha256Hex": null,
       "customPlotOptions": {
        "redashChart": [
         {
          "key": "type",
          "value": "CHART"
         },
         {
          "key": "options",
          "value": {
           "alignYAxesAtZero": true,
           "coefficient": 1,
           "columnConfigurationMap": {
            "x": {
             "column": "novotvar_poradi",
             "id": "column_be0a1c5637"
            }
           },
           "dateTimeFormat": "DD/MM/YYYY HH:mm",
           "direction": {
            "type": "counterclockwise"
           },
           "error_y": {
            "type": "data",
            "visible": true
           },
           "globalSeriesType": "histogram",
           "isAggregationOn": true,
           "legend": {
            "traceorder": "normal"
           },
           "missingValuesAsZero": true,
           "numBins": 50,
           "numberFormat": "0,0.[00000]",
           "percentFormat": "0[.]00%",
           "series": {
            "error_y": {
             "type": "data",
             "visible": true
            },
            "stacking": null
           },
           "seriesOptions": {},
           "showDataLabels": false,
           "sizemode": "diameter",
           "sortX": true,
           "sortY": true,
           "swappedAxes": false,
           "textFormat": "",
           "useAggregationsUi": true,
           "valuesOptions": {},
           "version": 2,
           "xAxis": {
            "labels": {
             "enabled": true
            },
            "type": "-"
           },
           "yAxis": [
            {
             "type": "-"
            },
            {
             "opposite": true,
             "type": "-"
            }
           ]
          }
         }
        ]
       },
       "datasetPreviewNameToCmdIdMap": {},
       "diffDeletes": [],
       "diffInserts": [],
       "displayType": "redashChart",
       "error": null,
       "errorDetails": null,
       "errorSummary": null,
       "errorTraceType": null,
       "finishTime": 0,
       "globalVars": {},
       "guid": "",
       "height": "auto",
       "hideCommandCode": false,
       "hideCommandResult": false,
       "iPythonMetadata": null,
       "inputWidgets": {},
       "isLockedInExamMode": false,
       "latestUser": "a user",
       "latestUserId": null,
       "listResultMetadata": null,
       "metadata": {
        "byteLimit": 2048000,
        "rowLimit": 10000
       },
       "nuid": "6231035a-161f-4897-8f79-2251bd80f018",
       "origId": 0,
       "parentHierarchy": [],
       "pivotAggregation": null,
       "pivotColumns": null,
       "position": 4.0,
       "resultDbfsErrorMessage": null,
       "resultDbfsStatus": "INLINED_IN_TREE",
       "results": null,
       "showCommandTitle": false,
       "startTime": 0,
       "state": "input",
       "streamStates": {},
       "subcommandOptions": {
        "queryPlan": {
         "groups": [
          {
           "column": "novotvar_poradi_BIN",
           "type": "column"
          }
         ],
         "selects": [
          {
           "alias": "novotvar_poradi_BIN",
           "args": [
            {
             "column": "novotvar_poradi",
             "type": "column"
            },
            {
             "number": 50,
             "type": "number"
            }
           ],
           "function": "BIN",
           "type": "function"
          },
          {
           "alias": "novotvar_poradi_BIN_LOWER_BOUND",
           "args": [
            {
             "column": "novotvar_poradi",
             "type": "column"
            },
            {
             "number": 50,
             "type": "number"
            }
           ],
           "function": "BIN_LOWER_BOUND",
           "type": "function"
          },
          {
           "alias": "novotvar_poradi_BIN_STEP",
           "args": [
            {
             "column": "novotvar_poradi",
             "type": "column"
            },
            {
             "number": 50,
             "type": "number"
            }
           ],
           "function": "BIN_STEP",
           "type": "function"
          },
          {
           "alias": "COUNT",
           "args": [
            {
             "column": "novotvar_poradi",
             "type": "column"
            }
           ],
           "function": "COUNT",
           "type": "function"
          }
         ]
        }
       },
       "submitTime": 0,
       "subtype": "tableResultSubCmd.visualization",
       "tableResultIndex": 0,
       "tableResultSettingsMap": {},
       "useConsistentColors": false,
       "version": "CommandV1",
       "width": "auto",
       "workflows": null,
       "xColumns": null,
       "yColumns": null
      }
     },
     "output_type": "display_data"
    },
    {
     "output_type": "display_data",
     "data": {
      "text/plain": [
       "Databricks visualization. Run in Databricks to view."
      ]
     },
     "metadata": {
      "application/vnd.databricks.v1.subcommand+json": {
       "baseErrorDetails": null,
       "bindings": {},
       "collapsed": false,
       "command": "%python\n__backend_agg_display_orig = display\n__backend_agg_dfs = []\ndef __backend_agg_display_new(df):\n    __backend_agg_df_modules = [\"pandas.core.frame\", \"databricks.koalas.frame\", \"pyspark.sql.dataframe\", \"pyspark.pandas.frame\", \"pyspark.sql.connect.dataframe\"]\n    if (type(df).__module__ in __backend_agg_df_modules and type(df).__name__ == 'DataFrame') or isinstance(df, list):\n        __backend_agg_dfs.append(df)\n\ndisplay = __backend_agg_display_new\n\ndef __backend_agg_user_code_fn():\n    import base64\n    exec(base64.standard_b64decode(\"ZGlzcGxheShyZWt1cnplKQ==\").decode())\n\ntry:\n    # run user code\n    __backend_agg_user_code_fn()\n\n    #reset display function\n    display = __backend_agg_display_orig\n\n    if len(__backend_agg_dfs) > 0:\n        # create a temp view\n        if type(__backend_agg_dfs[0]).__module__ == \"databricks.koalas.frame\":\n            # koalas dataframe\n            __backend_agg_dfs[0].to_spark().createOrReplaceTempView(\"DatabricksView274e6f4\")\n        elif type(__backend_agg_dfs[0]).__module__ == \"pandas.core.frame\" or isinstance(__backend_agg_dfs[0], list):\n            # pandas dataframe\n            spark.createDataFrame(__backend_agg_dfs[0]).createOrReplaceTempView(\"DatabricksView274e6f4\")\n        else:\n            __backend_agg_dfs[0].createOrReplaceTempView(\"DatabricksView274e6f4\")\n        #run backend agg\n        display(spark.sql(\"\"\"WITH q AS (select * from DatabricksView274e6f4) SELECT `vekova_kategorie_10let_dg`,COUNT(*) `column_be0a1c5640` FROM q GROUP BY `vekova_kategorie_10let_dg`\"\"\"))\n    else:\n        displayHTML(\"dataframe no longer exists. If you're using dataframe.display(), use display(dataframe) instead.\")\n\n\nfinally:\n    spark.sql(\"drop view if exists DatabricksView274e6f4\")\n    display = __backend_agg_display_orig\n    del __backend_agg_display_new\n    del __backend_agg_display_orig\n    del __backend_agg_dfs\n    del __backend_agg_user_code_fn\n\n",
       "commandTitle": "Distribuce vekovych kategorii",
       "commandType": "auto",
       "commandVersion": 0,
       "commentThread": [],
       "commentsVisible": false,
       "contentSha256Hex": null,
       "customPlotOptions": {
        "redashChart": [
         {
          "key": "type",
          "value": "CHART"
         },
         {
          "key": "options",
          "value": {
           "alignYAxesAtZero": true,
           "coefficient": 1,
           "columnConfigurationMap": {
            "x": {
             "column": "vekova_kategorie_10let_dg",
             "id": "column_be0a1c5638"
            },
            "y": [
             {
              "column": "*",
              "id": "column_be0a1c5640",
              "transform": "COUNT"
             }
            ]
           },
           "dateTimeFormat": "DD/MM/YYYY HH:mm",
           "direction": {
            "type": "counterclockwise"
           },
           "error_y": {
            "type": "data",
            "visible": true
           },
           "globalSeriesType": "column",
           "isAggregationOn": true,
           "legend": {
            "traceorder": "normal"
           },
           "missingValuesAsZero": true,
           "numberFormat": "0,0.[00000]",
           "percentFormat": "0[.]00%",
           "series": {
            "error_y": {
             "type": "data",
             "visible": true
            },
            "stacking": null
           },
           "seriesOptions": {
            "column_be0a1c5640": {
             "type": "column",
             "yAxis": 0
            }
           },
           "showDataLabels": true,
           "sizemode": "diameter",
           "sortX": true,
           "sortY": true,
           "swappedAxes": false,
           "textFormat": "",
           "useAggregationsUi": true,
           "valuesOptions": {},
           "version": 2,
           "xAxis": {
            "labels": {
             "enabled": true
            },
            "type": "-"
           },
           "yAxis": [
            {
             "type": "-"
            },
            {
             "opposite": true,
             "type": "-"
            }
           ]
          }
         }
        ]
       },
       "datasetPreviewNameToCmdIdMap": {},
       "diffDeletes": [],
       "diffInserts": [],
       "displayType": "redashChart",
       "error": null,
       "errorDetails": null,
       "errorSummary": null,
       "errorTraceType": null,
       "finishTime": 0,
       "globalVars": {},
       "guid": "",
       "height": "auto",
       "hideCommandCode": false,
       "hideCommandResult": false,
       "iPythonMetadata": null,
       "inputWidgets": {},
       "isLockedInExamMode": false,
       "latestUser": "a user",
       "latestUserId": null,
       "listResultMetadata": null,
       "metadata": {
        "byteLimit": 2048000,
        "rowLimit": 10000
       },
       "nuid": "5eeb4b32-3921-4009-98d7-13a6a226808b",
       "origId": 0,
       "parentHierarchy": [],
       "pivotAggregation": null,
       "pivotColumns": null,
       "position": 5.0,
       "resultDbfsErrorMessage": null,
       "resultDbfsStatus": "INLINED_IN_TREE",
       "results": null,
       "showCommandTitle": false,
       "startTime": 0,
       "state": "input",
       "streamStates": {},
       "subcommandOptions": {
        "queryPlan": {
         "groups": [
          {
           "column": "vekova_kategorie_10let_dg",
           "type": "column"
          }
         ],
         "selects": [
          {
           "column": "vekova_kategorie_10let_dg",
           "type": "column"
          },
          {
           "alias": "column_be0a1c5640",
           "args": [
            {
             "column": "*",
             "type": "column"
            }
           ],
           "function": "COUNT",
           "type": "function"
          }
         ]
        }
       },
       "submitTime": 0,
       "subtype": "tableResultSubCmd.visualization",
       "tableResultIndex": 0,
       "tableResultSettingsMap": {},
       "useConsistentColors": false,
       "version": "CommandV1",
       "width": "auto",
       "workflows": null,
       "xColumns": null,
       "yColumns": null
      }
     },
     "output_type": "display_data"
    },
    {
     "output_type": "display_data",
     "data": {
      "text/plain": [
       "Databricks visualization. Run in Databricks to view."
      ]
     },
     "metadata": {
      "application/vnd.databricks.v1.subcommand+json": {
       "baseErrorDetails": null,
       "bindings": {},
       "collapsed": false,
       "command": "%python\n__backend_agg_display_orig = display\n__backend_agg_dfs = []\ndef __backend_agg_display_new(df):\n    __backend_agg_df_modules = [\"pandas.core.frame\", \"databricks.koalas.frame\", \"pyspark.sql.dataframe\", \"pyspark.pandas.frame\", \"pyspark.sql.connect.dataframe\"]\n    if (type(df).__module__ in __backend_agg_df_modules and type(df).__name__ == 'DataFrame') or isinstance(df, list):\n        __backend_agg_dfs.append(df)\n\ndisplay = __backend_agg_display_new\n\ndef __backend_agg_user_code_fn():\n    import base64\n    exec(base64.standard_b64decode(\"ZGlzcGxheShyZWt1cnplKQ==\").decode())\n\ntry:\n    # run user code\n    __backend_agg_user_code_fn()\n\n    #reset display function\n    display = __backend_agg_display_orig\n\n    if len(__backend_agg_dfs) > 0:\n        # create a temp view\n        if type(__backend_agg_dfs[0]).__module__ == \"databricks.koalas.frame\":\n            # koalas dataframe\n            __backend_agg_dfs[0].to_spark().createOrReplaceTempView(\"DatabricksViewf002aa8\")\n        elif type(__backend_agg_dfs[0]).__module__ == \"pandas.core.frame\" or isinstance(__backend_agg_dfs[0], list):\n            # pandas dataframe\n            spark.createDataFrame(__backend_agg_dfs[0]).createOrReplaceTempView(\"DatabricksViewf002aa8\")\n        else:\n            __backend_agg_dfs[0].createOrReplaceTempView(\"DatabricksViewf002aa8\")\n        #run backend agg\n        display(spark.sql(\"\"\"WITH q AS (select * from DatabricksViewf002aa8) ,min_max AS (SELECT `pl_delka`,(SELECT MAX(`pl_delka`) FROM q) `target_column_max`,(SELECT MIN(`pl_delka`) FROM q) `target_column_min` FROM q) ,histogram_meta AS (SELECT `pl_delka`,`target_column_min` `min_value`,IF(`target_column_max` = `target_column_min`,`target_column_max` + 1,`target_column_max`) `max_value`,(`target_column_max` - `target_column_min`) / 80 `step` FROM min_max) SELECT IF(ISNULL(`pl_delka`),NULL,LEAST(WIDTH_BUCKET(`pl_delka`,`min_value`,`max_value`,80),80)) `pl_delka_BIN`,FIRST(`min_value` + ((IF(ISNULL(`pl_delka`),NULL,LEAST(WIDTH_BUCKET(`pl_delka`,`min_value`,`max_value`,80),80)) - 1) * `step`)) `pl_delka_BIN_LOWER_BOUND`,FIRST(`step`) `pl_delka_BIN_STEP`,COUNT(`pl_delka`) `COUNT` FROM histogram_meta GROUP BY `pl_delka_BIN`\"\"\"))\n    else:\n        displayHTML(\"dataframe no longer exists. If you're using dataframe.display(), use display(dataframe) instead.\")\n\n\nfinally:\n    spark.sql(\"drop view if exists DatabricksViewf002aa8\")\n    display = __backend_agg_display_orig\n    del __backend_agg_display_new\n    del __backend_agg_display_orig\n    del __backend_agg_dfs\n    del __backend_agg_user_code_fn\n\n",
       "commandTitle": "Pl delka histogram",
       "commandType": "auto",
       "commandVersion": 0,
       "commentThread": [],
       "commentsVisible": false,
       "contentSha256Hex": null,
       "customPlotOptions": {
        "redashChart": [
         {
          "key": "type",
          "value": "CHART"
         },
         {
          "key": "options",
          "value": {
           "alignYAxesAtZero": true,
           "coefficient": 1,
           "columnConfigurationMap": {
            "x": {
             "column": "pl_delka",
             "id": "column_be0a1c5643"
            }
           },
           "dateTimeFormat": "DD/MM/YYYY HH:mm",
           "direction": {
            "type": "counterclockwise"
           },
           "error_y": {
            "type": "data",
            "visible": true
           },
           "globalSeriesType": "histogram",
           "isAggregationOn": true,
           "legend": {
            "traceorder": "normal"
           },
           "missingValuesAsZero": true,
           "numBins": 80,
           "numberFormat": "0,0.[00000]",
           "percentFormat": "0[.]00%",
           "series": {
            "error_y": {
             "type": "data",
             "visible": true
            },
            "stacking": null
           },
           "seriesOptions": {},
           "showDataLabels": false,
           "sizemode": "diameter",
           "sortX": true,
           "sortY": true,
           "swappedAxes": false,
           "textFormat": "",
           "useAggregationsUi": true,
           "valuesOptions": {},
           "version": 2,
           "xAxis": {
            "labels": {
             "enabled": true
            },
            "type": "-"
           },
           "yAxis": [
            {
             "type": "-"
            },
            {
             "opposite": true,
             "type": "-"
            }
           ]
          }
         }
        ]
       },
       "datasetPreviewNameToCmdIdMap": {},
       "diffDeletes": [],
       "diffInserts": [],
       "displayType": "redashChart",
       "error": null,
       "errorDetails": null,
       "errorSummary": null,
       "errorTraceType": null,
       "finishTime": 0,
       "globalVars": {},
       "guid": "",
       "height": "auto",
       "hideCommandCode": false,
       "hideCommandResult": false,
       "iPythonMetadata": null,
       "inputWidgets": {},
       "isLockedInExamMode": false,
       "latestUser": "a user",
       "latestUserId": null,
       "listResultMetadata": null,
       "metadata": {
        "byteLimit": 2048000,
        "rowLimit": 10000
       },
       "nuid": "2910fc01-eb13-47ee-93f4-cb8ab4f47825",
       "origId": 0,
       "parentHierarchy": [],
       "pivotAggregation": null,
       "pivotColumns": null,
       "position": 6.0,
       "resultDbfsErrorMessage": null,
       "resultDbfsStatus": "INLINED_IN_TREE",
       "results": null,
       "showCommandTitle": false,
       "startTime": 0,
       "state": "input",
       "streamStates": {},
       "subcommandOptions": {
        "queryPlan": {
         "groups": [
          {
           "column": "pl_delka_BIN",
           "type": "column"
          }
         ],
         "selects": [
          {
           "alias": "pl_delka_BIN",
           "args": [
            {
             "column": "pl_delka",
             "type": "column"
            },
            {
             "number": 80,
             "type": "number"
            }
           ],
           "function": "BIN",
           "type": "function"
          },
          {
           "alias": "pl_delka_BIN_LOWER_BOUND",
           "args": [
            {
             "column": "pl_delka",
             "type": "column"
            },
            {
             "number": 80,
             "type": "number"
            }
           ],
           "function": "BIN_LOWER_BOUND",
           "type": "function"
          },
          {
           "alias": "pl_delka_BIN_STEP",
           "args": [
            {
             "column": "pl_delka",
             "type": "column"
            },
            {
             "number": 80,
             "type": "number"
            }
           ],
           "function": "BIN_STEP",
           "type": "function"
          },
          {
           "alias": "COUNT",
           "args": [
            {
             "column": "pl_delka",
             "type": "column"
            }
           ],
           "function": "COUNT",
           "type": "function"
          }
         ]
        }
       },
       "submitTime": 0,
       "subtype": "tableResultSubCmd.visualization",
       "tableResultIndex": 0,
       "tableResultSettingsMap": {},
       "useConsistentColors": false,
       "version": "CommandV1",
       "width": "auto",
       "workflows": null,
       "xColumns": null,
       "yColumns": null
      }
     },
     "output_type": "display_data"
    }
   ],
   "source": [
    "display(rekurze)"
   ]
  },
  {
   "cell_type": "code",
   "execution_count": 0,
   "metadata": {
    "application/vnd.databricks.v1+cell": {
     "cellMetadata": {
      "byteLimit": 2048000,
      "rowLimit": 10000
     },
     "inputWidgets": {},
     "nuid": "22e05715-9d80-497a-ab94-59d0db5958f7",
     "showTitle": false,
     "tableResultSettingsMap": {},
     "title": ""
    }
   },
   "outputs": [],
   "source": [
    "display(rekurze.select(\"id\",\"rok_dg\",\"mesic_dg\",\"grading\",\"pl_delka\",\"nl_delka\",\"novotvar_poradi\",\"vekova_kategorie_10let_dg\",\"umrti\",\"nl_typ_lecby_1\",\"nl_typ_lecby_2\",\"pl_typ_lecby_1\",\"pl_typ_lecby_2\",\"pl_typ_lecby_3\")\n",
    "        .filter(f.col(\"pl_delka\").isNull())\n",
    "        #.filter(f.col(\"nl_delka\").isNull())\n",
    "        #.count()\n",
    "        )"
   ]
  },
  {
   "cell_type": "code",
   "execution_count": 0,
   "metadata": {
    "application/vnd.databricks.v1+cell": {
     "cellMetadata": {
      "byteLimit": 2048000,
      "rowLimit": 10000
     },
     "inputWidgets": {},
     "nuid": "2f7c4913-dc29-44da-889d-368823fef499",
     "showTitle": false,
     "tableResultSettingsMap": {},
     "title": ""
    }
   },
   "outputs": [],
   "source": [
    "display(rekurze.filter(f.col(\"time_datum_dg_to_zahajeni_nl\").isNull()).count())\n",
    "display(rekurze.filter(f.col(\"nl_delka\").isNull()).count())"
   ]
  },
  {
   "cell_type": "code",
   "execution_count": 0,
   "metadata": {
    "application/vnd.databricks.v1+cell": {
     "cellMetadata": {
      "byteLimit": 2048000,
      "rowLimit": 10000
     },
     "inputWidgets": {},
     "nuid": "c1f6b612-31c5-4758-93d2-133382f9c521",
     "showTitle": false,
     "tableResultSettingsMap": {},
     "title": ""
    }
   },
   "outputs": [],
   "source": [
    "display(rekurze\n",
    "        .filter(f.col(\"novotvar_poradi\")==1)\n",
    "        .filter(f.col(\"nl_delka\").isNotNull())\n",
    "        .count()\n",
    "        )"
   ]
  },
  {
   "cell_type": "code",
   "execution_count": 0,
   "metadata": {
    "application/vnd.databricks.v1+cell": {
     "cellMetadata": {
      "byteLimit": 2048000,
      "rowLimit": 10000
     },
     "inputWidgets": {},
     "nuid": "9355b56f-3dc9-4c11-b4bb-ae80eede3d85",
     "showTitle": false,
     "tableResultSettingsMap": {},
     "title": ""
    }
   },
   "outputs": [
    {
     "output_type": "display_data",
     "data": {
      "text/plain": [
       "Databricks visualization. Run in Databricks to view."
      ]
     },
     "metadata": {
      "application/vnd.databricks.v1.subcommand+json": {
       "baseErrorDetails": null,
       "bindings": {},
       "collapsed": false,
       "command": "%python\n__backend_agg_display_orig = display\n__backend_agg_dfs = []\ndef __backend_agg_display_new(df):\n    __backend_agg_df_modules = [\"pandas.core.frame\", \"databricks.koalas.frame\", \"pyspark.sql.dataframe\", \"pyspark.pandas.frame\", \"pyspark.sql.connect.dataframe\"]\n    if (type(df).__module__ in __backend_agg_df_modules and type(df).__name__ == 'DataFrame') or isinstance(df, list):\n        __backend_agg_dfs.append(df)\n\ndisplay = __backend_agg_display_new\n\ndef __backend_agg_user_code_fn():\n    import base64\n    exec(base64.standard_b64decode(\"ZGlzcGxheShyZWt1cnplCiAgICAgICAgIy5maWx0ZXIoZi5jb2woIm5vdm90dmFyX3BvcmFkaSIpPT0xKQogICAgICAgIC5maWx0ZXIoZi5jb2woIm5sX2RlbGthIikuaXNOb3ROdWxsKCkpCiAgICAgICAgIy5jb3VudCgpCiAgICAgICAgKQ==\").decode())\n\ntry:\n    # run user code\n    __backend_agg_user_code_fn()\n\n    #reset display function\n    display = __backend_agg_display_orig\n\n    if len(__backend_agg_dfs) > 0:\n        # create a temp view\n        if type(__backend_agg_dfs[0]).__module__ == \"databricks.koalas.frame\":\n            # koalas dataframe\n            __backend_agg_dfs[0].to_spark().createOrReplaceTempView(\"DatabricksViewe3b3542\")\n        elif type(__backend_agg_dfs[0]).__module__ == \"pandas.core.frame\" or isinstance(__backend_agg_dfs[0], list):\n            # pandas dataframe\n            spark.createDataFrame(__backend_agg_dfs[0]).createOrReplaceTempView(\"DatabricksViewe3b3542\")\n        else:\n            __backend_agg_dfs[0].createOrReplaceTempView(\"DatabricksViewe3b3542\")\n        #run backend agg\n        display(spark.sql(\"\"\"WITH q AS (select * from DatabricksViewe3b3542) ,min_max AS (SELECT `novotvar_poradi`,(SELECT MAX(`novotvar_poradi`) FROM q) `target_column_max`,(SELECT MIN(`novotvar_poradi`) FROM q) `target_column_min` FROM q) ,histogram_meta AS (SELECT `novotvar_poradi`,`target_column_min` `min_value`,IF(`target_column_max` = `target_column_min`,`target_column_max` + 1,`target_column_max`) `max_value`,(`target_column_max` - `target_column_min`) / 100 `step` FROM min_max) SELECT IF(ISNULL(`novotvar_poradi`),NULL,LEAST(WIDTH_BUCKET(`novotvar_poradi`,`min_value`,`max_value`,100),100)) `novotvar_poradi_BIN`,FIRST(`min_value` + ((IF(ISNULL(`novotvar_poradi`),NULL,LEAST(WIDTH_BUCKET(`novotvar_poradi`,`min_value`,`max_value`,100),100)) - 1) * `step`)) `novotvar_poradi_BIN_LOWER_BOUND`,FIRST(`step`) `novotvar_poradi_BIN_STEP`,COUNT(`novotvar_poradi`) `COUNT` FROM histogram_meta GROUP BY `novotvar_poradi_BIN`\"\"\"))\n    else:\n        displayHTML(\"dataframe no longer exists. If you're using dataframe.display(), use display(dataframe) instead.\")\n\n\nfinally:\n    spark.sql(\"drop view if exists DatabricksViewe3b3542\")\n    display = __backend_agg_display_orig\n    del __backend_agg_display_new\n    del __backend_agg_display_orig\n    del __backend_agg_dfs\n    del __backend_agg_user_code_fn\n\n",
       "commandTitle": "Visualization 1",
       "commandType": "auto",
       "commandVersion": 0,
       "commentThread": [],
       "commentsVisible": false,
       "contentSha256Hex": null,
       "customPlotOptions": {
        "redashChart": [
         {
          "key": "type",
          "value": "CHART"
         },
         {
          "key": "options",
          "value": {
           "alignYAxesAtZero": true,
           "coefficient": 1,
           "columnConfigurationMap": {
            "x": {
             "column": "novotvar_poradi",
             "id": "column_be0a1c5689"
            }
           },
           "dateTimeFormat": "DD/MM/YYYY HH:mm",
           "direction": {
            "type": "counterclockwise"
           },
           "error_y": {
            "type": "data",
            "visible": true
           },
           "globalSeriesType": "histogram",
           "isAggregationOn": true,
           "legend": {
            "traceorder": "normal"
           },
           "missingValuesAsZero": true,
           "numBins": 100,
           "numberFormat": "0,0.[00000]",
           "percentFormat": "0[.]00%",
           "series": {
            "error_y": {
             "type": "data",
             "visible": true
            },
            "stacking": null
           },
           "seriesOptions": {},
           "showDataLabels": false,
           "sizemode": "diameter",
           "sortX": true,
           "sortY": true,
           "swappedAxes": false,
           "textFormat": "",
           "useAggregationsUi": true,
           "valuesOptions": {},
           "version": 2,
           "xAxis": {
            "labels": {
             "enabled": true
            },
            "type": "-"
           },
           "yAxis": [
            {
             "type": "-"
            },
            {
             "opposite": true,
             "type": "-"
            }
           ]
          }
         }
        ]
       },
       "datasetPreviewNameToCmdIdMap": {},
       "diffDeletes": [],
       "diffInserts": [],
       "displayType": "redashChart",
       "error": null,
       "errorDetails": null,
       "errorSummary": null,
       "errorTraceType": null,
       "finishTime": 0,
       "globalVars": {},
       "guid": "",
       "height": "auto",
       "hideCommandCode": false,
       "hideCommandResult": false,
       "iPythonMetadata": null,
       "inputWidgets": {},
       "isLockedInExamMode": false,
       "latestUser": "a user",
       "latestUserId": null,
       "listResultMetadata": null,
       "metadata": {
        "byteLimit": 2048000,
        "rowLimit": 10000
       },
       "nuid": "8b78bb00-f328-479f-852c-b543770bbd0a",
       "origId": 0,
       "parentHierarchy": [],
       "pivotAggregation": null,
       "pivotColumns": null,
       "position": 7.0,
       "resultDbfsErrorMessage": null,
       "resultDbfsStatus": "INLINED_IN_TREE",
       "results": null,
       "showCommandTitle": false,
       "startTime": 0,
       "state": "input",
       "streamStates": {},
       "subcommandOptions": {
        "queryPlan": {
         "groups": [
          {
           "column": "novotvar_poradi_BIN",
           "type": "column"
          }
         ],
         "selects": [
          {
           "alias": "novotvar_poradi_BIN",
           "args": [
            {
             "column": "novotvar_poradi",
             "type": "column"
            },
            {
             "number": 100,
             "type": "number"
            }
           ],
           "function": "BIN",
           "type": "function"
          },
          {
           "alias": "novotvar_poradi_BIN_LOWER_BOUND",
           "args": [
            {
             "column": "novotvar_poradi",
             "type": "column"
            },
            {
             "number": 100,
             "type": "number"
            }
           ],
           "function": "BIN_LOWER_BOUND",
           "type": "function"
          },
          {
           "alias": "novotvar_poradi_BIN_STEP",
           "args": [
            {
             "column": "novotvar_poradi",
             "type": "column"
            },
            {
             "number": 100,
             "type": "number"
            }
           ],
           "function": "BIN_STEP",
           "type": "function"
          },
          {
           "alias": "COUNT",
           "args": [
            {
             "column": "novotvar_poradi",
             "type": "column"
            }
           ],
           "function": "COUNT",
           "type": "function"
          }
         ]
        }
       },
       "submitTime": 0,
       "subtype": "tableResultSubCmd.visualization",
       "tableResultIndex": 0,
       "tableResultSettingsMap": {},
       "useConsistentColors": false,
       "version": "CommandV1",
       "width": "auto",
       "workflows": null,
       "xColumns": null,
       "yColumns": null
      }
     },
     "output_type": "display_data"
    }
   ],
   "source": [
    "display(rekurze\n",
    "        #.filter(f.col(\"novotvar_poradi\")==1)\n",
    "        .filter(f.col(\"nl_delka\").isNotNull())\n",
    "        #.count()\n",
    "        )"
   ]
  },
  {
   "cell_type": "code",
   "execution_count": 0,
   "metadata": {
    "application/vnd.databricks.v1+cell": {
     "cellMetadata": {
      "byteLimit": 2048000,
      "rowLimit": 10000
     },
     "inputWidgets": {},
     "nuid": "6e5f80a4-8ff6-4998-8d12-065e2da4e962",
     "showTitle": false,
     "tableResultSettingsMap": {},
     "title": ""
    }
   },
   "outputs": [],
   "source": [
    "display(rekurze.drop(\"stadium\").count())\n",
    "display(rekurze.drop(\"stadium\").dropDuplicates().count())"
   ]
  },
  {
   "cell_type": "code",
   "execution_count": 0,
   "metadata": {
    "application/vnd.databricks.v1+cell": {
     "cellMetadata": {
      "byteLimit": 2048000,
      "rowLimit": 10000
     },
     "inputWidgets": {},
     "nuid": "0ad3205d-7bba-4996-9fd5-cae4d878b882",
     "showTitle": false,
     "tableResultSettingsMap": {},
     "title": ""
    }
   },
   "outputs": [],
   "source": [
    "high_stadium = [1,2]\n",
    "\n",
    "display(rekurze\n",
    "        .filter(f.col(\"stadium\").isin(high_stadium))\n",
    "        #.filter(f.col(\"nl_delka\").isNotNull())\n",
    "        #.select(\"stadium\",\"nl_delka\",\"novotvar_poradi\",\"umrti\")\n",
    "        .count()\n",
    "        )"
   ]
  },
  {
   "cell_type": "code",
   "execution_count": 0,
   "metadata": {
    "application/vnd.databricks.v1+cell": {
     "cellMetadata": {
      "byteLimit": 2048000,
      "rowLimit": 10000
     },
     "inputWidgets": {},
     "nuid": "83af5131-385f-4d8d-904a-dcdeb50f86ab",
     "showTitle": false,
     "tableResultSettingsMap": {},
     "title": ""
    }
   },
   "outputs": [],
   "source": [
    "display(rekurze.select(\"id\",\"stadium\",\"nl_delka\",\"novotvar_poradi\",\"umrti\"))\n",
    "# 1-2 stadium se muze jednat o relaps"
   ]
  },
  {
   "cell_type": "code",
   "execution_count": 0,
   "metadata": {
    "application/vnd.databricks.v1+cell": {
     "cellMetadata": {
      "byteLimit": 2048000,
      "rowLimit": 10000
     },
     "inputWidgets": {},
     "nuid": "cf48ee99-83f9-45f9-840d-7332b11fc7c0",
     "showTitle": false,
     "tableResultSettingsMap": {},
     "title": ""
    }
   },
   "outputs": [
    {
     "output_type": "display_data",
     "data": {
      "text/plain": [
       "Databricks visualization. Run in Databricks to view."
      ]
     },
     "metadata": {
      "application/vnd.databricks.v1.subcommand+json": {
       "baseErrorDetails": null,
       "bindings": {},
       "collapsed": false,
       "command": "%python\n__backend_agg_display_orig = display\n__backend_agg_dfs = []\ndef __backend_agg_display_new(df):\n    __backend_agg_df_modules = [\"pandas.core.frame\", \"databricks.koalas.frame\", \"pyspark.sql.dataframe\", \"pyspark.pandas.frame\", \"pyspark.sql.connect.dataframe\"]\n    if (type(df).__module__ in __backend_agg_df_modules and type(df).__name__ == 'DataFrame') or isinstance(df, list):\n        __backend_agg_dfs.append(df)\n\ndisplay = __backend_agg_display_new\n\ndef __backend_agg_user_code_fn():\n    import base64\n    exec(base64.standard_b64decode(\"ZGlzcGxheShyZWt1cnplLnNlbGVjdCgidG5tX2tsYXNpZmlrYWNlX3Rfa29kIiwidG5tX2tsYXNpZmlrYWNlX25fa29kIiwidG5tX2tsYXNpZmlrYWNlX21fa29kIikpCgojIHQga29kIC0+IG11c2kgb2JzYWhvdmF0ICI0IgojIE5FQk8KIyBuIGtvZCAtPiBtdXNpIG9ic2Fob3ZhdCAiMyIKIyBORUJPCiMgbSBrb2QgLT4gbXVzaSBvYnNhaG92YXQgIjEiCgojIFRhZHkgbmVtw6EgY2VudSDFmWXFoWl0LCB2ecWZYWTDrW1lIHogZGF0YXNldHU=\").decode())\n\ntry:\n    # run user code\n    __backend_agg_user_code_fn()\n\n    #reset display function\n    display = __backend_agg_display_orig\n\n    if len(__backend_agg_dfs) > 0:\n        # create a temp view\n        if type(__backend_agg_dfs[0]).__module__ == \"databricks.koalas.frame\":\n            # koalas dataframe\n            __backend_agg_dfs[0].to_spark().createOrReplaceTempView(\"DatabricksViewd09a52d\")\n        elif type(__backend_agg_dfs[0]).__module__ == \"pandas.core.frame\" or isinstance(__backend_agg_dfs[0], list):\n            # pandas dataframe\n            spark.createDataFrame(__backend_agg_dfs[0]).createOrReplaceTempView(\"DatabricksViewd09a52d\")\n        else:\n            __backend_agg_dfs[0].createOrReplaceTempView(\"DatabricksViewd09a52d\")\n        #run backend agg\n        display(spark.sql(\"\"\"WITH q AS (select * from DatabricksViewd09a52d) SELECT `pl_typ_lecby_2`,COUNT(*) `column_be0a1c56109`,`pl_typ_lecby_2` FROM q GROUP BY `pl_typ_lecby_2`\"\"\"))\n    else:\n        displayHTML(\"dataframe no longer exists. If you're using dataframe.display(), use display(dataframe) instead.\")\n\n\nfinally:\n    spark.sql(\"drop view if exists DatabricksViewd09a52d\")\n    display = __backend_agg_display_orig\n    del __backend_agg_display_new\n    del __backend_agg_display_orig\n    del __backend_agg_dfs\n    del __backend_agg_user_code_fn\n\n",
       "commandTitle": "Visualization 1",
       "commandType": "auto",
       "commandVersion": 0,
       "commentThread": [],
       "commentsVisible": false,
       "contentSha256Hex": null,
       "customPlotOptions": {
        "redashChart": [
         {
          "key": "type",
          "value": "CHART"
         },
         {
          "key": "options",
          "value": {
           "alignYAxesAtZero": true,
           "coefficient": 1,
           "columnConfigurationMap": {
            "series": {
             "column": "pl_typ_lecby_2",
             "id": "column_be0a1c56111"
            },
            "x": {
             "column": "pl_typ_lecby_2",
             "id": "column_be0a1c56108"
            },
            "y": [
             {
              "column": "*",
              "id": "column_be0a1c56109",
              "transform": "COUNT"
             }
            ]
           },
           "dateTimeFormat": "DD/MM/YYYY HH:mm",
           "direction": {
            "type": "counterclockwise"
           },
           "error_y": {
            "type": "data",
            "visible": true
           },
           "globalSeriesType": "column",
           "isAggregationOn": true,
           "legend": {
            "traceorder": "normal"
           },
           "missingValuesAsZero": true,
           "numberFormat": "0,0.[00000]",
           "percentFormat": "0[.]00%",
           "series": {
            "error_y": {
             "type": "data",
             "visible": true
            },
            "stacking": null
           },
           "seriesOptions": {
            "column_be0a1c56109": {
             "name": "*",
             "yAxis": 0
            }
           },
           "showDataLabels": false,
           "sizemode": "diameter",
           "sortX": true,
           "sortY": true,
           "swappedAxes": false,
           "textFormat": "",
           "useAggregationsUi": true,
           "valuesOptions": {},
           "version": 2,
           "xAxis": {
            "labels": {
             "enabled": true
            },
            "type": "-"
           },
           "yAxis": [
            {
             "type": "-"
            },
            {
             "opposite": true,
             "type": "-"
            }
           ]
          }
         }
        ]
       },
       "datasetPreviewNameToCmdIdMap": {},
       "diffDeletes": [],
       "diffInserts": [],
       "displayType": "redashChart",
       "error": null,
       "errorDetails": null,
       "errorSummary": null,
       "errorTraceType": null,
       "finishTime": 0,
       "globalVars": {},
       "guid": "",
       "height": "auto",
       "hideCommandCode": false,
       "hideCommandResult": false,
       "iPythonMetadata": null,
       "inputWidgets": {},
       "isLockedInExamMode": false,
       "latestUser": "a user",
       "latestUserId": null,
       "listResultMetadata": null,
       "metadata": {
        "byteLimit": 2048000,
        "rowLimit": 10000
       },
       "nuid": "0b88bfdd-ce20-4acb-bd8a-d51b8739b45c",
       "origId": 0,
       "parentHierarchy": [],
       "pivotAggregation": null,
       "pivotColumns": null,
       "position": 11.0,
       "resultDbfsErrorMessage": null,
       "resultDbfsStatus": "INLINED_IN_TREE",
       "results": null,
       "showCommandTitle": false,
       "startTime": 0,
       "state": "input",
       "streamStates": {},
       "subcommandOptions": {
        "queryPlan": {
         "groups": [
          {
           "column": "pl_typ_lecby_2",
           "type": "column"
          },
          {
           "column": "pl_typ_lecby_2",
           "type": "column"
          }
         ],
         "selects": [
          {
           "column": "pl_typ_lecby_2",
           "type": "column"
          },
          {
           "alias": "column_be0a1c56109",
           "args": [
            {
             "column": "*",
             "type": "column"
            }
           ],
           "function": "COUNT",
           "type": "function"
          },
          {
           "column": "pl_typ_lecby_2",
           "type": "column"
          }
         ]
        }
       },
       "submitTime": 0,
       "subtype": "tableResultSubCmd.visualization",
       "tableResultIndex": 0,
       "tableResultSettingsMap": {},
       "useConsistentColors": false,
       "version": "CommandV1",
       "width": "auto",
       "workflows": null,
       "xColumns": null,
       "yColumns": null
      }
     },
     "output_type": "display_data"
    }
   ],
   "source": [
    "display(rekurze.select(\"tnm_klasifikace_t_kod\",\"tnm_klasifikace_n_kod\",\"tnm_klasifikace_m_kod\"))\n",
    "\n",
    "# t kod -> musi obsahovat \"4\"\n",
    "# NEBO\n",
    "# n kod -> musi obsahovat \"3\"\n",
    "# NEBO\n",
    "# m kod -> musi obsahovat \"1\"\n",
    "\n",
    "# Tady nemá cenu řešit, vyřadíme z datasetu"
   ]
  },
  {
   "cell_type": "markdown",
   "metadata": {
    "application/vnd.databricks.v1+cell": {
     "cellMetadata": {
      "byteLimit": 2048000,
      "rowLimit": 10000
     },
     "inputWidgets": {},
     "nuid": "e53afe1c-42a9-4469-a536-2a51d0871968",
     "showTitle": false,
     "tableResultSettingsMap": {},
     "title": ""
    }
   },
   "source": [
    "## cleansed layer"
   ]
  },
  {
   "cell_type": "code",
   "execution_count": 0,
   "metadata": {
    "application/vnd.databricks.v1+cell": {
     "cellMetadata": {
      "byteLimit": 2048000,
      "rowLimit": 10000
     },
     "inputWidgets": {},
     "nuid": "5cc5b5e6-6d6d-4da9-9a0a-02426ae2b295",
     "showTitle": false,
     "tableResultSettingsMap": {},
     "title": ""
    }
   },
   "outputs": [],
   "source": [
    "disp_cols = [\"je_disp\", \"je_disp_prakt\", \"je_disp_onk\", \"je_disp_int\", \"je_disp_chir\", \"je_disp_gyn\"]\n",
    "advanced_stadium = [3,4]\n",
    "\n",
    "rekurze_recidiva_cleansed = (rekurze#.select(\"id\",\"stadium\",\"pl_delka\",\"je_disp\",\"je_disp_prakt\",\"je_disp_onk\",\"je_disp_int\",\"je_disp_chir\",\"je_disp_gyn\",\"nl_delka\",\"vekova_kategorie_10let_dg\",\"umrti\")\n",
    "        .withColumn(\"advanced_stadium\",(    \n",
    "            f.when(f.col(\"tnm_klasifikace_t_kod\").contains(\"4\") |\n",
    "            f.col(\"tnm_klasifikace_n_kod\").contains(\"3\") |\n",
    "            f.col(\"tnm_klasifikace_m_kod\").contains(\"1\"),1).otherwise(0))\n",
    "        )\n",
    "        .withColumn(\"disp_bool\", f.when(f.greatest(*[f.col(c) for c in disp_cols]) == 1, 1).otherwise(0))\n",
    "        .withColumn(\"nl_bool\", f.when(f.col(\"nl_delka\").isNotNull(), 1).otherwise(0))\n",
    "        .withColumn(\"pl_bool\", f.when(f.col(\"pl_delka\").isNotNull(), 1).otherwise(0))\n",
    "        .withColumn(\"recidiva\", f.when((f.col(\"advanced_stadium\") == 0) & \n",
    "                                       (f.col(\"disp_bool\") == 1) & (f.col(\"nl_bool\") == 1) & (f.col(\"pl_bool\") == 1), 1).otherwise(0))\n",
    "        .withColumn(\"remise\",f.when((f.col(\"pl_bool\") == 1) & (f.col(\"disp_bool\") == 1), 1).otherwise(0))\n",
    "        .withColumn(\"target\", f.when(f.col(\"recidiva\") == 1, 1).when((f.col(\"advanced_stadium\") == 0) & (f.col(\"disp_bool\") == 1), 0)\n",
    "            .otherwise(None))\n",
    "        )\n",
    "\n",
    "# 24.9 %\n",
    "print(rekurze_recidiva_cleansed.count()) #95 784\n",
    "print(rekurze_recidiva_cleansed.filter(f.col(\"nl_bool\")==1).count()) # 57 866\n",
    "print(rekurze_recidiva_cleansed.filter(f.col(\"recidiva\")==1).count()) # "
   ]
  },
  {
   "cell_type": "code",
   "execution_count": 0,
   "metadata": {
    "application/vnd.databricks.v1+cell": {
     "cellMetadata": {
      "byteLimit": 2048000,
      "rowLimit": 10000
     },
     "inputWidgets": {},
     "nuid": "ad6811a8-60a5-4844-b30d-cc90c721b161",
     "showTitle": false,
     "tableResultSettingsMap": {},
     "title": ""
    }
   },
   "outputs": [
    {
     "output_type": "display_data",
     "data": {
      "text/plain": [
       "Databricks visualization. Run in Databricks to view."
      ]
     },
     "metadata": {
      "application/vnd.databricks.v1.subcommand+json": {
       "baseErrorDetails": null,
       "bindings": {},
       "collapsed": false,
       "command": "%python\n__backend_agg_display_orig = display\n__backend_agg_dfs = []\ndef __backend_agg_display_new(df):\n    __backend_agg_df_modules = [\"pandas.core.frame\", \"databricks.koalas.frame\", \"pyspark.sql.dataframe\", \"pyspark.pandas.frame\", \"pyspark.sql.connect.dataframe\"]\n    if (type(df).__module__ in __backend_agg_df_modules and type(df).__name__ == 'DataFrame') or isinstance(df, list):\n        __backend_agg_dfs.append(df)\n\ndisplay = __backend_agg_display_new\n\ndef __backend_agg_user_code_fn():\n    import base64\n    exec(base64.standard_b64decode(\"ZGlzcGxheShyZWt1cnplX3JlY2lkaXZhX2NsZWFuc2VkLmZpbHRlcihmLmNvbCgibmxfcG9jZXRfbGVjZWIiKT4wKS5jb3VudCgpKSAjIDU3IDg2NgojIC0ga2R5xb4gYnlsYSBuYXNsZWRuYSBsZWNiYSBqZW5vbSBob3Jtb25hbG5pCmRpc3BsYXkocmVrdXJ6ZV9yZWNpZGl2YV9jbGVhbnNlZC5maWx0ZXIoZi5jb2woIm5sX3BvY2V0X2xlY2ViIik+MCkpIAo=\").decode())\n\ntry:\n    # run user code\n    __backend_agg_user_code_fn()\n\n    #reset display function\n    display = __backend_agg_display_orig\n\n    if len(__backend_agg_dfs) > 0:\n        # create a temp view\n        if type(__backend_agg_dfs[0]).__module__ == \"databricks.koalas.frame\":\n            # koalas dataframe\n            __backend_agg_dfs[0].to_spark().createOrReplaceTempView(\"DatabricksViewa0d71b0\")\n        elif type(__backend_agg_dfs[0]).__module__ == \"pandas.core.frame\" or isinstance(__backend_agg_dfs[0], list):\n            # pandas dataframe\n            spark.createDataFrame(__backend_agg_dfs[0]).createOrReplaceTempView(\"DatabricksViewa0d71b0\")\n        else:\n            __backend_agg_dfs[0].createOrReplaceTempView(\"DatabricksViewa0d71b0\")\n        #run backend agg\n        display(spark.sql(\"\"\"WITH q AS (select * from DatabricksViewa0d71b0) SELECT `je_nl_hormo`,COUNT(*) `column_be0a1c56137`,`je_nl_hormo` FROM q GROUP BY `je_nl_hormo`\"\"\"))\n    else:\n        displayHTML(\"dataframe no longer exists. If you're using dataframe.display(), use display(dataframe) instead.\")\n\n\nfinally:\n    spark.sql(\"drop view if exists DatabricksViewa0d71b0\")\n    display = __backend_agg_display_orig\n    del __backend_agg_display_new\n    del __backend_agg_display_orig\n    del __backend_agg_dfs\n    del __backend_agg_user_code_fn\n\n",
       "commandTitle": "Visualization 1",
       "commandType": "auto",
       "commandVersion": 0,
       "commentThread": [],
       "commentsVisible": false,
       "contentSha256Hex": null,
       "customPlotOptions": {
        "redashChart": [
         {
          "key": "type",
          "value": "CHART"
         },
         {
          "key": "options",
          "value": {
           "alignYAxesAtZero": true,
           "coefficient": 1,
           "columnConfigurationMap": {
            "series": {
             "column": "je_nl_hormo",
             "id": "column_be0a1c56135"
            },
            "x": {
             "column": "je_nl_hormo",
             "id": "column_be0a1c56134"
            },
            "y": [
             {
              "column": "*",
              "id": "column_be0a1c56137",
              "transform": "COUNT"
             }
            ]
           },
           "dateTimeFormat": "DD/MM/YYYY HH:mm",
           "direction": {
            "type": "counterclockwise"
           },
           "error_y": {
            "type": "data",
            "visible": true
           },
           "globalSeriesType": "column",
           "isAggregationOn": true,
           "legend": {
            "traceorder": "normal"
           },
           "missingValuesAsZero": true,
           "numberFormat": "0,0.[00000]",
           "percentFormat": "0[.]00%",
           "series": {
            "error_y": {
             "type": "data",
             "visible": true
            },
            "stacking": null
           },
           "seriesOptions": {
            "column_be0a1c56137": {
             "type": "column",
             "yAxis": 0
            }
           },
           "showDataLabels": false,
           "sizemode": "diameter",
           "sortX": true,
           "sortY": true,
           "swappedAxes": false,
           "textFormat": "",
           "useAggregationsUi": true,
           "valuesOptions": {},
           "version": 2,
           "xAxis": {
            "labels": {
             "enabled": true
            },
            "type": "-"
           },
           "yAxis": [
            {
             "type": "-"
            },
            {
             "opposite": true,
             "type": "-"
            }
           ]
          }
         }
        ]
       },
       "datasetPreviewNameToCmdIdMap": {},
       "diffDeletes": [],
       "diffInserts": [],
       "displayType": "redashChart",
       "error": null,
       "errorDetails": null,
       "errorSummary": null,
       "errorTraceType": null,
       "finishTime": 0,
       "globalVars": {},
       "guid": "",
       "height": "auto",
       "hideCommandCode": false,
       "hideCommandResult": false,
       "iPythonMetadata": null,
       "inputWidgets": {},
       "isLockedInExamMode": false,
       "latestUser": "a user",
       "latestUserId": null,
       "listResultMetadata": null,
       "metadata": {
        "byteLimit": 2048000,
        "rowLimit": 10000
       },
       "nuid": "037b2053-365f-4e6a-bf7f-38e72f1ddcd9",
       "origId": 0,
       "parentHierarchy": [],
       "pivotAggregation": null,
       "pivotColumns": null,
       "position": 12.125,
       "resultDbfsErrorMessage": null,
       "resultDbfsStatus": "INLINED_IN_TREE",
       "results": null,
       "showCommandTitle": false,
       "startTime": 0,
       "state": "input",
       "streamStates": {},
       "subcommandOptions": {
        "queryPlan": {
         "groups": [
          {
           "column": "je_nl_hormo",
           "type": "column"
          },
          {
           "column": "je_nl_hormo",
           "type": "column"
          }
         ],
         "selects": [
          {
           "column": "je_nl_hormo",
           "type": "column"
          },
          {
           "alias": "column_be0a1c56137",
           "args": [
            {
             "column": "*",
             "type": "column"
            }
           ],
           "function": "COUNT",
           "type": "function"
          },
          {
           "column": "je_nl_hormo",
           "type": "column"
          }
         ]
        }
       },
       "submitTime": 0,
       "subtype": "tableResultSubCmd.visualization",
       "tableResultIndex": 0,
       "tableResultSettingsMap": {},
       "useConsistentColors": false,
       "version": "CommandV1",
       "width": "auto",
       "workflows": null,
       "xColumns": null,
       "yColumns": null
      }
     },
     "output_type": "display_data"
    },
    {
     "output_type": "display_data",
     "data": {
      "text/plain": [
       "Databricks visualization. Run in Databricks to view."
      ]
     },
     "metadata": {
      "application/vnd.databricks.v1.subcommand+json": {
       "baseErrorDetails": null,
       "bindings": {},
       "collapsed": false,
       "command": "%python\n__backend_agg_display_orig = display\n__backend_agg_dfs = []\ndef __backend_agg_display_new(df):\n    __backend_agg_df_modules = [\"pandas.core.frame\", \"databricks.koalas.frame\", \"pyspark.sql.dataframe\", \"pyspark.pandas.frame\", \"pyspark.sql.connect.dataframe\"]\n    if (type(df).__module__ in __backend_agg_df_modules and type(df).__name__ == 'DataFrame') or isinstance(df, list):\n        __backend_agg_dfs.append(df)\n\ndisplay = __backend_agg_display_new\n\ndef __backend_agg_user_code_fn():\n    import base64\n    exec(base64.standard_b64decode(\"ZGlzcGxheShyZWt1cnplX3JlY2lkaXZhX2NsZWFuc2VkLmZpbHRlcihmLmNvbCgibmxfcG9jZXRfbGVjZWIiKT4wKS5jb3VudCgpKSAjIDU3IDg2NgojIC0ga2R5xb4gYnlsYSBuYXNsZWRuYSBsZWNiYSBqZW5vbSBob3Jtb25hbG5pCmRpc3BsYXkocmVrdXJ6ZV9yZWNpZGl2YV9jbGVhbnNlZC5maWx0ZXIoZi5jb2woIm5sX3BvY2V0X2xlY2ViIik+MCkKICAgICAgICAuc2VsZWN0KCJpZCIsIm5sX3BvY2V0X2xlY2ViIiwiamVfbmxfb3BlciIsImplX25sX3JhZGlvIiwiamVfbmxfY2hlbW8iLCJqZV9ubF9pbXVubyIsImplX25sX3RhcmdldCIsImplX25sX2hvcm1vIiwiamVfbmxfaG9ybW8iKSkgCmRpc3BsYXkocmVrdXJ6ZV9yZWNpZGl2YV9jbGVhbnNlZC5maWx0ZXIoZi5jb2woIm5sX3BvY2V0X2xlY2ViIik+MCkKICAgICAgICAuZmlsdGVyKGYuY29sKCJqZV9ubF9ob3JtbyIpPT0wKQogICAgICAgIC5jb3VudCgpKSAjIDE2IDI4OQ==\").decode())\n\ntry:\n    # run user code\n    __backend_agg_user_code_fn()\n\n    #reset display function\n    display = __backend_agg_display_orig\n\n    if len(__backend_agg_dfs) > 0:\n        # create a temp view\n        if type(__backend_agg_dfs[0]).__module__ == \"databricks.koalas.frame\":\n            # koalas dataframe\n            __backend_agg_dfs[0].to_spark().createOrReplaceTempView(\"DatabricksView62d552a\")\n        elif type(__backend_agg_dfs[0]).__module__ == \"pandas.core.frame\" or isinstance(__backend_agg_dfs[0], list):\n            # pandas dataframe\n            spark.createDataFrame(__backend_agg_dfs[0]).createOrReplaceTempView(\"DatabricksView62d552a\")\n        else:\n            __backend_agg_dfs[0].createOrReplaceTempView(\"DatabricksView62d552a\")\n        #run backend agg\n        display(spark.sql(\"\"\"WITH q AS (select * from DatabricksView62d552a) SELECT `je_nl_hormo`,COUNT(*) `column_be0a1c56142`,`je_nl_hormo` FROM q GROUP BY `je_nl_hormo`\"\"\"))\n    else:\n        displayHTML(\"dataframe no longer exists. If you're using dataframe.display(), use display(dataframe) instead.\")\n\n\nfinally:\n    spark.sql(\"drop view if exists DatabricksView62d552a\")\n    display = __backend_agg_display_orig\n    del __backend_agg_display_new\n    del __backend_agg_display_orig\n    del __backend_agg_dfs\n    del __backend_agg_user_code_fn\n\n",
       "commandTitle": "Visualization 2",
       "commandType": "auto",
       "commandVersion": 0,
       "commentThread": [],
       "commentsVisible": false,
       "contentSha256Hex": null,
       "customPlotOptions": {
        "redashChart": [
         {
          "key": "type",
          "value": "CHART"
         },
         {
          "key": "options",
          "value": {
           "alignYAxesAtZero": true,
           "coefficient": 1,
           "columnConfigurationMap": {
            "series": {
             "column": "je_nl_hormo",
             "id": "column_be0a1c56140"
            },
            "x": {
             "column": "je_nl_hormo",
             "id": "column_be0a1c56139"
            },
            "y": [
             {
              "column": "*",
              "id": "column_be0a1c56142",
              "transform": "COUNT"
             }
            ]
           },
           "dateTimeFormat": "DD/MM/YYYY HH:mm",
           "direction": {
            "type": "counterclockwise"
           },
           "error_y": {
            "type": "data",
            "visible": true
           },
           "globalSeriesType": "column",
           "isAggregationOn": true,
           "legend": {
            "traceorder": "normal"
           },
           "missingValuesAsZero": true,
           "numberFormat": "0,0.[00000]",
           "percentFormat": "0[.]00%",
           "series": {
            "error_y": {
             "type": "data",
             "visible": true
            },
            "stacking": null
           },
           "seriesOptions": {
            "column_be0a1c56142": {
             "type": "column",
             "yAxis": 0
            }
           },
           "showDataLabels": false,
           "sizemode": "diameter",
           "sortX": true,
           "sortY": true,
           "swappedAxes": false,
           "textFormat": "",
           "useAggregationsUi": true,
           "valuesOptions": {},
           "version": 2,
           "xAxis": {
            "labels": {
             "enabled": true
            },
            "type": "-"
           },
           "yAxis": [
            {
             "type": "-"
            },
            {
             "opposite": true,
             "type": "-"
            }
           ]
          }
         }
        ]
       },
       "datasetPreviewNameToCmdIdMap": {},
       "diffDeletes": [],
       "diffInserts": [],
       "displayType": "redashChart",
       "error": null,
       "errorDetails": null,
       "errorSummary": null,
       "errorTraceType": null,
       "finishTime": 0,
       "globalVars": {},
       "guid": "",
       "height": "auto",
       "hideCommandCode": false,
       "hideCommandResult": false,
       "iPythonMetadata": null,
       "inputWidgets": {},
       "isLockedInExamMode": false,
       "latestUser": "a user",
       "latestUserId": null,
       "listResultMetadata": null,
       "metadata": {
        "byteLimit": 2048000,
        "rowLimit": 10000
       },
       "nuid": "1b3b2c06-eee8-49a4-8d6b-1aac6b0517a1",
       "origId": 0,
       "parentHierarchy": [],
       "pivotAggregation": null,
       "pivotColumns": null,
       "position": 13.125,
       "resultDbfsErrorMessage": null,
       "resultDbfsStatus": "INLINED_IN_TREE",
       "results": null,
       "showCommandTitle": false,
       "startTime": 0,
       "state": "input",
       "streamStates": {},
       "subcommandOptions": {
        "queryPlan": {
         "groups": [
          {
           "column": "je_nl_hormo",
           "type": "column"
          },
          {
           "column": "je_nl_hormo",
           "type": "column"
          }
         ],
         "selects": [
          {
           "column": "je_nl_hormo",
           "type": "column"
          },
          {
           "alias": "column_be0a1c56142",
           "args": [
            {
             "column": "*",
             "type": "column"
            }
           ],
           "function": "COUNT",
           "type": "function"
          },
          {
           "column": "je_nl_hormo",
           "type": "column"
          }
         ]
        }
       },
       "submitTime": 0,
       "subtype": "tableResultSubCmd.visualization",
       "tableResultIndex": 0,
       "tableResultSettingsMap": {},
       "useConsistentColors": false,
       "version": "CommandV1",
       "width": "auto",
       "workflows": null,
       "xColumns": null,
       "yColumns": null
      }
     },
     "output_type": "display_data"
    }
   ],
   "source": [
    "display(rekurze_recidiva_cleansed.filter(f.col(\"nl_pocet_leceb\")>0).count()) # 57 866\n",
    "# - když byla nasledna lecba jenom hormonalni\n",
    "display(rekurze_recidiva_cleansed.filter(f.col(\"nl_pocet_leceb\")>0)\n",
    "        .select(\"id\",\"nl_pocet_leceb\",\"je_nl_oper\",\"je_nl_radio\",\"je_nl_chemo\",\"je_nl_imuno\",\"je_nl_target\",\"je_nl_hormo\")) \n",
    "display(rekurze_recidiva_cleansed.filter(f.col(\"nl_pocet_leceb\")>0)\n",
    "        .filter(f.col(\"je_nl_hormo\")==0)\n",
    "        .count()) # 16 289"
   ]
  },
  {
   "cell_type": "code",
   "execution_count": 0,
   "metadata": {
    "application/vnd.databricks.v1+cell": {
     "cellMetadata": {
      "byteLimit": 2048000,
      "rowLimit": 10000
     },
     "inputWidgets": {},
     "nuid": "3ebb7374-e7ce-4366-9e82-6eab8e18660b",
     "showTitle": false,
     "tableResultSettingsMap": {},
     "title": ""
    }
   },
   "outputs": [],
   "source": [
    "display(rekurze_recidiva_cleansed.select(\"id\",\"time_datum_dg_to_zahajeni_pl\",\"time_datum_dg_to_zahajeni_nl\",\"time_datum_dg_to_umrti\",\"pl_delka\",\"nl_delka\",\"disp_bool\",\"recidiva\")\n",
    "        )\n",
    "print(rekurze_recidiva_cleansed.count())\n",
    "print(rekurze_recidiva_cleansed.filter(f.col(\"advanced_stadium\")==0).count())\n",
    "\n",
    "# Po jaké době došlo k recidivě?\n",
    "# disp_bool = 1 došlo k remisi\n",
    "#  \n"
   ]
  },
  {
   "cell_type": "code",
   "execution_count": 0,
   "metadata": {
    "application/vnd.databricks.v1+cell": {
     "cellMetadata": {
      "byteLimit": 2048000,
      "rowLimit": 10000
     },
     "inputWidgets": {},
     "nuid": "725c4721-ff97-446b-ad5e-008f038f0768",
     "showTitle": false,
     "tableResultSettingsMap": {},
     "title": ""
    }
   },
   "outputs": [],
   "source": [
    "from functools import reduce\n",
    "\n",
    "all_treatments = [\n",
    "    \"je_nl_oper\", \"je_nl_radio\", \"je_nl_chemo\",\n",
    "    \"je_nl_imuno\", \"je_nl_target\", \"je_nl_hormo\"\n",
    "]\n",
    "\n",
    "nl_other_cols = [\n",
    "    \"je_nl_oper\", \"je_nl_radio\", \"je_nl_chemo\",\n",
    "    \"je_nl_imuno\", \"je_nl_target\"\n",
    "]\n",
    "\n",
    "# All treatment columns except hormo\n",
    "non_hormo_cols = [c for c in all_treatments if c != \"je_nl_hormo\"]\n",
    "\n",
    "# Build condition: hormo == 1 AND all others == 0\n",
    "only_hormo_condition = (\n",
    "    (f.col(\"je_nl_hormo\") == 1) &\n",
    "    reduce(lambda a, b: a & (f.col(b) == 0), non_hormo_cols, f.lit(True))\n",
    ")\n",
    "\n",
    "# Add the column\n",
    "rekurze_recidiva_cleansed_nl = (rekurze_recidiva_cleansed\n",
    "       # .select(\"id\",\"nl_pocet_leceb\",\"je_nl_oper\",\"je_nl_radio\",\"je_nl_chemo\",\"je_nl_imuno\",\"je_nl_target\",\"je_nl_hormo\")\n",
    "        .withColumn(\"nl_only_hormo\", f.when(only_hormo_condition, 1).otherwise(0))\n",
    "        .withColumn(\"nl_others\", f.when(f.greatest(*[f.col(c) for c in nl_other_cols]) == 1, 1).otherwise(0))\n",
    "        .withColumn(\"recidiva_new\", f.when(f.col(\"nl_others\") == 1, 1).otherwise(0))\n",
    "        .withColumn(\"observed_time_window\", f.when(f.col(\"rok_dg\") < 2018, 1).otherwise(0))\n",
    "        .withColumn(\n",
    "            \"target_new\",\n",
    "            f.when((f.col(\"recidiva_new\") == 1) & (f.col(\"observed_time_window\") == 1), 1)\n",
    "             .when((f.col(\"advanced_stadium\") == 0) & (f.col(\"observed_time_window\") == 1), 0)\n",
    "             .otherwise(None)\n",
    "        ))"
   ]
  },
  {
   "cell_type": "code",
   "execution_count": 0,
   "metadata": {
    "application/vnd.databricks.v1+cell": {
     "cellMetadata": {
      "byteLimit": 2048000,
      "rowLimit": 10000
     },
     "inputWidgets": {},
     "nuid": "4635f73f-7202-438c-9296-76909a315769",
     "showTitle": false,
     "tableResultSettingsMap": {},
     "title": ""
    }
   },
   "outputs": [
    {
     "output_type": "display_data",
     "data": {
      "text/plain": [
       "Databricks visualization. Run in Databricks to view."
      ]
     },
     "metadata": {
      "application/vnd.databricks.v1.subcommand+json": {
       "baseErrorDetails": null,
       "bindings": {},
       "collapsed": false,
       "command": "%python\n__backend_agg_display_orig = display\n__backend_agg_dfs = []\ndef __backend_agg_display_new(df):\n    __backend_agg_df_modules = [\"pandas.core.frame\", \"databricks.koalas.frame\", \"pyspark.sql.dataframe\", \"pyspark.pandas.frame\", \"pyspark.sql.connect.dataframe\"]\n    if (type(df).__module__ in __backend_agg_df_modules and type(df).__name__ == 'DataFrame') or isinstance(df, list):\n        __backend_agg_dfs.append(df)\n\ndisplay = __backend_agg_display_new\n\ndef __backend_agg_user_code_fn():\n    import base64\n    exec(base64.standard_b64decode(\"cmVrdXJ6ZV9yZWNpZGl2YV9jbGVhbnNlZF9ubC5zZWxlY3QoZi5jb2woInJva19kZyIpKS5kaXNwbGF5KCk=\").decode())\n\ntry:\n    # run user code\n    __backend_agg_user_code_fn()\n\n    #reset display function\n    display = __backend_agg_display_orig\n\n    if len(__backend_agg_dfs) > 0:\n        # create a temp view\n        if type(__backend_agg_dfs[0]).__module__ == \"databricks.koalas.frame\":\n            # koalas dataframe\n            __backend_agg_dfs[0].to_spark().createOrReplaceTempView(\"DatabricksView3bfb07b\")\n        elif type(__backend_agg_dfs[0]).__module__ == \"pandas.core.frame\" or isinstance(__backend_agg_dfs[0], list):\n            # pandas dataframe\n            spark.createDataFrame(__backend_agg_dfs[0]).createOrReplaceTempView(\"DatabricksView3bfb07b\")\n        else:\n            __backend_agg_dfs[0].createOrReplaceTempView(\"DatabricksView3bfb07b\")\n        #run backend agg\n        display(spark.sql(\"\"\"WITH q AS (select * from DatabricksView3bfb07b) ,min_max AS (SELECT `rok_dg`,(SELECT MAX(`rok_dg`) FROM q) `target_column_max`,(SELECT MIN(`rok_dg`) FROM q) `target_column_min` FROM q) ,histogram_meta AS (SELECT `rok_dg`,`target_column_min` `min_value`,IF(`target_column_max` = `target_column_min`,`target_column_max` + 1,`target_column_max`) `max_value`,(`target_column_max` - `target_column_min`) / 10 `step` FROM min_max) SELECT IF(ISNULL(`rok_dg`),NULL,LEAST(WIDTH_BUCKET(`rok_dg`,`min_value`,`max_value`,10),10)) `rok_dg_BIN`,FIRST(`min_value` + ((IF(ISNULL(`rok_dg`),NULL,LEAST(WIDTH_BUCKET(`rok_dg`,`min_value`,`max_value`,10),10)) - 1) * `step`)) `rok_dg_BIN_LOWER_BOUND`,FIRST(`step`) `rok_dg_BIN_STEP`,COUNT(`rok_dg`) `COUNT` FROM histogram_meta GROUP BY `rok_dg_BIN`\"\"\"))\n    else:\n        displayHTML(\"dataframe no longer exists. If you're using dataframe.display(), use display(dataframe) instead.\")\n\n\nfinally:\n    spark.sql(\"drop view if exists DatabricksView3bfb07b\")\n    display = __backend_agg_display_orig\n    del __backend_agg_display_new\n    del __backend_agg_display_orig\n    del __backend_agg_dfs\n    del __backend_agg_user_code_fn\n\n",
       "commandTitle": "Visualization 1",
       "commandType": "auto",
       "commandVersion": 0,
       "commentThread": [],
       "commentsVisible": false,
       "contentSha256Hex": null,
       "customPlotOptions": {
        "redashChart": [
         {
          "key": "type",
          "value": "CHART"
         },
         {
          "key": "options",
          "value": {
           "alignYAxesAtZero": true,
           "coefficient": 1,
           "columnConfigurationMap": {
            "x": {
             "column": "rok_dg",
             "id": "column_4e69547973"
            }
           },
           "dateTimeFormat": "DD/MM/YYYY HH:mm",
           "direction": {
            "type": "counterclockwise"
           },
           "error_y": {
            "type": "data",
            "visible": true
           },
           "globalSeriesType": "histogram",
           "legend": {
            "traceorder": "normal"
           },
           "missingValuesAsZero": true,
           "numBins": 10,
           "numberFormat": "0,0.[00000]",
           "percentFormat": "0[.]00%",
           "series": {
            "error_y": {
             "type": "data",
             "visible": true
            },
            "stacking": null
           },
           "seriesOptions": {},
           "showDataLabels": false,
           "sizemode": "diameter",
           "sortX": true,
           "sortY": true,
           "swappedAxes": false,
           "textFormat": "",
           "useAggregationsUi": true,
           "valuesOptions": {},
           "version": 2,
           "xAxis": {
            "labels": {
             "enabled": true
            },
            "type": "-"
           },
           "yAxis": [
            {
             "type": "-"
            },
            {
             "opposite": true,
             "type": "-"
            }
           ]
          }
         }
        ]
       },
       "datasetPreviewNameToCmdIdMap": {},
       "diffDeletes": [],
       "diffInserts": [],
       "displayType": "redashChart",
       "error": null,
       "errorDetails": null,
       "errorSummary": null,
       "errorTraceType": null,
       "finishTime": 0,
       "globalVars": {},
       "guid": "",
       "height": "auto",
       "hideCommandCode": false,
       "hideCommandResult": false,
       "iPythonMetadata": null,
       "inputWidgets": {},
       "isLockedInExamMode": false,
       "latestUser": "a user",
       "latestUserId": null,
       "listResultMetadata": null,
       "metadata": {
        "byteLimit": 2048000,
        "rowLimit": 10000
       },
       "nuid": "7511fc43-5a2c-46c1-924f-3d7d6e8594d0",
       "origId": 0,
       "parentHierarchy": [],
       "pivotAggregation": null,
       "pivotColumns": null,
       "position": 15.25,
       "resultDbfsErrorMessage": null,
       "resultDbfsStatus": "INLINED_IN_TREE",
       "results": null,
       "showCommandTitle": false,
       "startTime": 0,
       "state": "input",
       "streamStates": {},
       "subcommandOptions": {
        "queryPlan": {
         "groups": [
          {
           "column": "rok_dg_BIN",
           "type": "column"
          }
         ],
         "selects": [
          {
           "alias": "rok_dg_BIN",
           "args": [
            {
             "column": "rok_dg",
             "type": "column"
            },
            {
             "number": 10,
             "type": "number"
            }
           ],
           "function": "BIN",
           "type": "function"
          },
          {
           "alias": "rok_dg_BIN_LOWER_BOUND",
           "args": [
            {
             "column": "rok_dg",
             "type": "column"
            },
            {
             "number": 10,
             "type": "number"
            }
           ],
           "function": "BIN_LOWER_BOUND",
           "type": "function"
          },
          {
           "alias": "rok_dg_BIN_STEP",
           "args": [
            {
             "column": "rok_dg",
             "type": "column"
            },
            {
             "number": 10,
             "type": "number"
            }
           ],
           "function": "BIN_STEP",
           "type": "function"
          },
          {
           "alias": "COUNT",
           "args": [
            {
             "column": "rok_dg",
             "type": "column"
            }
           ],
           "function": "COUNT",
           "type": "function"
          }
         ]
        }
       },
       "submitTime": 0,
       "subtype": "tableResultSubCmd.visualization",
       "tableResultIndex": 0,
       "tableResultSettingsMap": {},
       "useConsistentColors": false,
       "version": "CommandV1",
       "width": "auto",
       "workflows": null,
       "xColumns": null,
       "yColumns": null
      }
     },
     "output_type": "display_data"
    }
   ],
   "source": [
    "display(rekurze_recidiva_cleansed_nl.select(f.col(\"rok_dg\")))"
   ]
  },
  {
   "cell_type": "code",
   "execution_count": 0,
   "metadata": {
    "application/vnd.databricks.v1+cell": {
     "cellMetadata": {
      "byteLimit": 2048000,
      "rowLimit": 10000
     },
     "inputWidgets": {},
     "nuid": "8b798ae2-d3fb-412f-a32b-a6b24a140af7",
     "showTitle": false,
     "tableResultSettingsMap": {},
     "title": ""
    }
   },
   "outputs": [],
   "source": [
    "display(rekurze_recidiva_cleansed_nl.select(f.col(target_new)))"
   ]
  },
  {
   "cell_type": "code",
   "execution_count": 0,
   "metadata": {
    "application/vnd.databricks.v1+cell": {
     "cellMetadata": {
      "byteLimit": 2048000,
      "rowLimit": 10000
     },
     "inputWidgets": {},
     "nuid": "38b3470b-76fc-4b87-b952-bff452289279",
     "showTitle": true,
     "tableResultSettingsMap": {},
     "title": "write"
    }
   },
   "outputs": [],
   "source": [
    "#rekurze_recidiva_cleansed_nl.write.mode(\"overwrite\").saveAsTable(\"rakathon_hackathon.rekurze.rekurze_initial_set\")"
   ]
  },
  {
   "cell_type": "code",
   "execution_count": 0,
   "metadata": {
    "application/vnd.databricks.v1+cell": {
     "cellMetadata": {
      "byteLimit": 2048000,
      "rowLimit": 10000
     },
     "inputWidgets": {},
     "nuid": "0367ce5e-3da0-4ca4-bf54-f80aceca65f1",
     "showTitle": false,
     "tableResultSettingsMap": {},
     "title": ""
    }
   },
   "outputs": [
    {
     "output_type": "display_data",
     "data": {
      "text/plain": [
       "Databricks visualization. Run in Databricks to view."
      ]
     },
     "metadata": {
      "application/vnd.databricks.v1.subcommand+json": {
       "baseErrorDetails": null,
       "bindings": {},
       "collapsed": false,
       "command": "%python\n__backend_agg_display_orig = display\n__backend_agg_dfs = []\ndef __backend_agg_display_new(df):\n    __backend_agg_df_modules = [\"pandas.core.frame\", \"databricks.koalas.frame\", \"pyspark.sql.dataframe\", \"pyspark.pandas.frame\", \"pyspark.sql.connect.dataframe\"]\n    if (type(df).__module__ in __backend_agg_df_modules and type(df).__name__ == 'DataFrame') or isinstance(df, list):\n        __backend_agg_dfs.append(df)\n\ndisplay = __backend_agg_display_new\n\ndef __backend_agg_user_code_fn():\n    import base64\n    exec(base64.standard_b64decode(\"ZGlzcGxheShyZWt1cnplX3JlY2lkaXZhX2NsZWFuc2VkX25sCiAgICAgICAgLnNlbGVjdCgiaWQiLCJubF9wb2NldF9sZWNlYiIsImplX25sX29wZXIiLCJqZV9ubF9yYWRpbyIsImplX25sX2NoZW1vIiwiamVfbmxfaW11bm8iLCJqZV9ubF90YXJnZXQiLCJqZV9ubF9ob3JtbyIsIm5sX290aGVycyIsInJlY2lkaXZhX25ldyIsInRhcmdldF9uZXciLCJvYnNlcnZlZF90aW1lX3dpbmRvdyIpCiAgICAgICAgCgop\").decode())\n\ntry:\n    # run user code\n    __backend_agg_user_code_fn()\n\n    #reset display function\n    display = __backend_agg_display_orig\n\n    if len(__backend_agg_dfs) > 0:\n        # create a temp view\n        if type(__backend_agg_dfs[0]).__module__ == \"databricks.koalas.frame\":\n            # koalas dataframe\n            __backend_agg_dfs[0].to_spark().createOrReplaceTempView(\"DatabricksView7b356ae\")\n        elif type(__backend_agg_dfs[0]).__module__ == \"pandas.core.frame\" or isinstance(__backend_agg_dfs[0], list):\n            # pandas dataframe\n            spark.createDataFrame(__backend_agg_dfs[0]).createOrReplaceTempView(\"DatabricksView7b356ae\")\n        else:\n            __backend_agg_dfs[0].createOrReplaceTempView(\"DatabricksView7b356ae\")\n        #run backend agg\n        display(spark.sql(\"\"\"WITH q AS (select * from DatabricksView7b356ae) SELECT `observed_time_window`,COUNT(*) `column_be0a1c56151`,`observed_time_window` FROM q GROUP BY `observed_time_window`\"\"\"))\n    else:\n        displayHTML(\"dataframe no longer exists. If you're using dataframe.display(), use display(dataframe) instead.\")\n\n\nfinally:\n    spark.sql(\"drop view if exists DatabricksView7b356ae\")\n    display = __backend_agg_display_orig\n    del __backend_agg_display_new\n    del __backend_agg_display_orig\n    del __backend_agg_dfs\n    del __backend_agg_user_code_fn\n\n",
       "commandTitle": "Visualization 1",
       "commandType": "auto",
       "commandVersion": 0,
       "commentThread": [],
       "commentsVisible": false,
       "contentSha256Hex": null,
       "customPlotOptions": {
        "redashChart": [
         {
          "key": "type",
          "value": "CHART"
         },
         {
          "key": "options",
          "value": {
           "alignYAxesAtZero": true,
           "coefficient": 1,
           "columnConfigurationMap": {
            "series": {
             "column": "observed_time_window",
             "id": "column_be0a1c56149"
            },
            "x": {
             "column": "observed_time_window",
             "id": "column_be0a1c56148"
            },
            "y": [
             {
              "column": "*",
              "id": "column_be0a1c56151",
              "transform": "COUNT"
             }
            ]
           },
           "dateTimeFormat": "DD/MM/YYYY HH:mm",
           "direction": {
            "type": "counterclockwise"
           },
           "error_y": {
            "type": "data",
            "visible": true
           },
           "globalSeriesType": "column",
           "isAggregationOn": true,
           "legend": {
            "traceorder": "normal"
           },
           "missingValuesAsZero": true,
           "numberFormat": "0,0.[00000]",
           "percentFormat": "0[.]00%",
           "series": {
            "error_y": {
             "type": "data",
             "visible": true
            },
            "stacking": null
           },
           "seriesOptions": {
            "column_be0a1c56151": {
             "type": "column",
             "yAxis": 0
            }
           },
           "showDataLabels": false,
           "sizemode": "diameter",
           "sortX": true,
           "sortY": true,
           "swappedAxes": false,
           "textFormat": "",
           "useAggregationsUi": true,
           "valuesOptions": {},
           "version": 2,
           "xAxis": {
            "labels": {
             "enabled": true
            },
            "type": "-"
           },
           "yAxis": [
            {
             "type": "-"
            },
            {
             "opposite": true,
             "type": "-"
            }
           ]
          }
         }
        ]
       },
       "datasetPreviewNameToCmdIdMap": {},
       "diffDeletes": [],
       "diffInserts": [],
       "displayType": "redashChart",
       "error": null,
       "errorDetails": null,
       "errorSummary": null,
       "errorTraceType": null,
       "finishTime": 1744451778979,
       "globalVars": {},
       "guid": "",
       "height": "auto",
       "hideCommandCode": false,
       "hideCommandResult": false,
       "iPythonMetadata": null,
       "inputWidgets": {},
       "isLockedInExamMode": false,
       "latestUser": "a user",
       "latestUserId": null,
       "listResultMetadata": [
        [
         "table",
         2
        ]
       ],
       "metadata": {
        "byteLimit": 2048000,
        "rowLimit": 10000
       },
       "nuid": "162f980a-35ab-40cb-b3b5-184b593750f5",
       "origId": 0,
       "parentHierarchy": [],
       "pivotAggregation": null,
       "pivotColumns": null,
       "position": 16.0,
       "resultDbfsErrorMessage": null,
       "resultDbfsStatus": "INLINED_IN_TREE",
       "results": null,
       "showCommandTitle": false,
       "startTime": 1744451777477,
       "state": "input",
       "streamStates": {},
       "subcommandOptions": {
        "queryPlan": {
         "groups": [
          {
           "column": "observed_time_window",
           "type": "column"
          },
          {
           "column": "observed_time_window",
           "type": "column"
          }
         ],
         "selects": [
          {
           "column": "observed_time_window",
           "type": "column"
          },
          {
           "alias": "column_be0a1c56151",
           "args": [
            {
             "column": "*",
             "type": "column"
            }
           ],
           "function": "COUNT",
           "type": "function"
          },
          {
           "column": "observed_time_window",
           "type": "column"
          }
         ]
        }
       },
       "submitTime": 1744451777439,
       "subtype": "tableResultSubCmd.visualization",
       "tableResultIndex": 0,
       "tableResultSettingsMap": {},
       "useConsistentColors": false,
       "version": "CommandV1",
       "width": "auto",
       "workflows": null,
       "xColumns": null,
       "yColumns": null
      }
     },
     "output_type": "display_data"
    }
   ],
   "source": [
    "display(rekurze_recidiva_cleansed_nl\n",
    "        .select(\"id\",\"nl_pocet_leceb\",\"je_nl_oper\",\"je_nl_radio\",\"je_nl_chemo\",\"je_nl_imuno\",\"je_nl_target\",\"je_nl_hormo\",\"nl_others\",\"recidiva_new\",\"target_new\",\"observed_time_window\")\n",
    "        \n",
    "\n",
    ")"
   ]
  },
  {
   "cell_type": "code",
   "execution_count": 0,
   "metadata": {
    "application/vnd.databricks.v1+cell": {
     "cellMetadata": {
      "byteLimit": 2048000,
      "rowLimit": 10000
     },
     "inputWidgets": {},
     "nuid": "580cce78-2fec-4e7b-aeaf-5b147b501324",
     "showTitle": false,
     "tableResultSettingsMap": {},
     "title": ""
    }
   },
   "outputs": [
    {
     "output_type": "display_data",
     "data": {
      "text/plain": [
       "Databricks visualization. Run in Databricks to view."
      ]
     },
     "metadata": {
      "application/vnd.databricks.v1.subcommand+json": {
       "baseErrorDetails": null,
       "bindings": {},
       "collapsed": false,
       "command": "%python\n__backend_agg_display_orig = display\n__backend_agg_dfs = []\ndef __backend_agg_display_new(df):\n    __backend_agg_df_modules = [\"pandas.core.frame\", \"databricks.koalas.frame\", \"pyspark.sql.dataframe\", \"pyspark.pandas.frame\", \"pyspark.sql.connect.dataframe\"]\n    if (type(df).__module__ in __backend_agg_df_modules and type(df).__name__ == 'DataFrame') or isinstance(df, list):\n        __backend_agg_dfs.append(df)\n\ndisplay = __backend_agg_display_new\n\ndef __backend_agg_user_code_fn():\n    import base64\n    exec(base64.standard_b64decode(\"ZGlzcGxheShyZWt1cnplX3JlY2lkaXZhX2NsZWFuc2VkX25sCiAgICAgICAgLndpdGhDb2x1bW4oImNhdXNlX29mX2RlYXRoX0JDIixmLndoZW4oZi5jb2woInBydm90bmlfcHJpY2luYV91bXJ0aV9rb2QiKS5ybGlrZSgiQzVbMC05XXsyfSIpLCAxKS5vdGhlcndpc2UoMCkpCiAgICAgICAgLndpdGhDb2x1bW4oCiAgICAgICAgICAgICJ0YXJnZXRfZGVhdGhfY2F1c2VkX2J5X2JjIiwKICAgICAgICAgICAgZi53aGVuKAogICAgICAgICAgICAgICAgKGYuY29sKCJvYnNlcnZlZF90aW1lX3dpbmRvdyIpID09IDEpICYgKGYuY29sKCJjYXVzZV9vZl9kZWF0aF9CQyIpID09IDEpLCAxCiAgICAgICAgICAgICkud2hlbigKICAgICAgICAgICAgICAgIChmLmNvbCgib2JzZXJ2ZWRfdGltZV93aW5kb3ciKSA9PSAxKSAmIChmLmNvbCgiY2F1c2Vfb2ZfZGVhdGhfQkMiKSA9PSAwKSwgMAogICAgICAgICAgICApLm90aGVyd2lzZShOb25lKQogICAgICAgICkKICAgICAgICAKICAgICAgICAp\").decode())\n\ntry:\n    # run user code\n    __backend_agg_user_code_fn()\n\n    #reset display function\n    display = __backend_agg_display_orig\n\n    if len(__backend_agg_dfs) > 0:\n        # create a temp view\n        if type(__backend_agg_dfs[0]).__module__ == \"databricks.koalas.frame\":\n            # koalas dataframe\n            __backend_agg_dfs[0].to_spark().createOrReplaceTempView(\"DatabricksView760f34e\")\n        elif type(__backend_agg_dfs[0]).__module__ == \"pandas.core.frame\" or isinstance(__backend_agg_dfs[0], list):\n            # pandas dataframe\n            spark.createDataFrame(__backend_agg_dfs[0]).createOrReplaceTempView(\"DatabricksView760f34e\")\n        else:\n            __backend_agg_dfs[0].createOrReplaceTempView(\"DatabricksView760f34e\")\n        #run backend agg\n        display(spark.sql(\"\"\"WITH q AS (select * from DatabricksView760f34e) SELECT `target_death_caused_by_bc`,COUNT(*) `column_be0a1c56160`,`target_death_caused_by_bc` FROM q GROUP BY `target_death_caused_by_bc`\"\"\"))\n    else:\n        displayHTML(\"dataframe no longer exists. If you're using dataframe.display(), use display(dataframe) instead.\")\n\n\nfinally:\n    spark.sql(\"drop view if exists DatabricksView760f34e\")\n    display = __backend_agg_display_orig\n    del __backend_agg_display_new\n    del __backend_agg_display_orig\n    del __backend_agg_dfs\n    del __backend_agg_user_code_fn\n\n",
       "commandTitle": "Visualization 1",
       "commandType": "auto",
       "commandVersion": 0,
       "commentThread": [],
       "commentsVisible": false,
       "contentSha256Hex": null,
       "customPlotOptions": {
        "redashChart": [
         {
          "key": "type",
          "value": "CHART"
         },
         {
          "key": "options",
          "value": {
           "alignYAxesAtZero": true,
           "coefficient": 1,
           "columnConfigurationMap": {
            "series": {
             "column": "target_death_caused_by_bc",
             "id": "column_be0a1c56158"
            },
            "x": {
             "column": "target_death_caused_by_bc",
             "id": "column_be0a1c56157"
            },
            "y": [
             {
              "column": "*",
              "id": "column_be0a1c56160",
              "transform": "COUNT"
             }
            ]
           },
           "dateTimeFormat": "DD/MM/YYYY HH:mm",
           "direction": {
            "type": "counterclockwise"
           },
           "error_y": {
            "type": "data",
            "visible": true
           },
           "globalSeriesType": "column",
           "isAggregationOn": true,
           "legend": {
            "traceorder": "normal"
           },
           "missingValuesAsZero": true,
           "numberFormat": "0,0.[00000]",
           "percentFormat": "0[.]00%",
           "series": {
            "error_y": {
             "type": "data",
             "visible": true
            },
            "stacking": null
           },
           "seriesOptions": {
            "column_be0a1c56160": {
             "type": "column",
             "yAxis": 0
            }
           },
           "showDataLabels": false,
           "sizemode": "diameter",
           "sortX": true,
           "sortY": true,
           "swappedAxes": false,
           "textFormat": "",
           "useAggregationsUi": true,
           "valuesOptions": {},
           "version": 2,
           "xAxis": {
            "labels": {
             "enabled": true
            },
            "type": "-"
           },
           "yAxis": [
            {
             "type": "-"
            },
            {
             "opposite": true,
             "type": "-"
            }
           ]
          }
         }
        ]
       },
       "datasetPreviewNameToCmdIdMap": {},
       "diffDeletes": [],
       "diffInserts": [],
       "displayType": "redashChart",
       "error": null,
       "errorDetails": null,
       "errorSummary": null,
       "errorTraceType": null,
       "finishTime": 0,
       "globalVars": {},
       "guid": "",
       "height": "auto",
       "hideCommandCode": false,
       "hideCommandResult": false,
       "iPythonMetadata": null,
       "inputWidgets": {},
       "isLockedInExamMode": false,
       "latestUser": "a user",
       "latestUserId": null,
       "listResultMetadata": null,
       "metadata": {
        "byteLimit": 2048000,
        "rowLimit": 10000
       },
       "nuid": "fc9a75ef-297f-4789-85c7-7360939b7197",
       "origId": 0,
       "parentHierarchy": [],
       "pivotAggregation": null,
       "pivotColumns": null,
       "position": 17.0,
       "resultDbfsErrorMessage": null,
       "resultDbfsStatus": "INLINED_IN_TREE",
       "results": null,
       "showCommandTitle": false,
       "startTime": 0,
       "state": "input",
       "streamStates": {},
       "subcommandOptions": {
        "queryPlan": {
         "groups": [
          {
           "column": "target_death_caused_by_bc",
           "type": "column"
          },
          {
           "column": "target_death_caused_by_bc",
           "type": "column"
          }
         ],
         "selects": [
          {
           "column": "target_death_caused_by_bc",
           "type": "column"
          },
          {
           "alias": "column_be0a1c56160",
           "args": [
            {
             "column": "*",
             "type": "column"
            }
           ],
           "function": "COUNT",
           "type": "function"
          },
          {
           "column": "target_death_caused_by_bc",
           "type": "column"
          }
         ]
        }
       },
       "submitTime": 0,
       "subtype": "tableResultSubCmd.visualization",
       "tableResultIndex": 0,
       "tableResultSettingsMap": {},
       "useConsistentColors": false,
       "version": "CommandV1",
       "width": "auto",
       "workflows": null,
       "xColumns": null,
       "yColumns": null
      }
     },
     "output_type": "display_data"
    },
    {
     "output_type": "display_data",
     "data": {
      "text/plain": [
       "Databricks visualization. Run in Databricks to view."
      ]
     },
     "metadata": {
      "application/vnd.databricks.v1.subcommand+json": {
       "baseErrorDetails": null,
       "bindings": {},
       "collapsed": false,
       "command": "%python\n__backend_agg_display_orig = display\n__backend_agg_dfs = []\ndef __backend_agg_display_new(df):\n    __backend_agg_df_modules = [\"pandas.core.frame\", \"databricks.koalas.frame\", \"pyspark.sql.dataframe\", \"pyspark.pandas.frame\", \"pyspark.sql.connect.dataframe\"]\n    if (type(df).__module__ in __backend_agg_df_modules and type(df).__name__ == 'DataFrame') or isinstance(df, list):\n        __backend_agg_dfs.append(df)\n\ndisplay = __backend_agg_display_new\n\ndef __backend_agg_user_code_fn():\n    import base64\n    exec(base64.standard_b64decode(\"ZGlzcGxheShyZWt1cnplX3JlY2lkaXZhX2NsZWFuc2VkX25sCiAgICAgICAgLmZpbHRlcihmLmNvbCgidm5lanNpX3ByaWNpbmFfdW1ydGlfa29kIikuaXNOdWxsKCkpCiAgICAgICAgLndpdGhDb2x1bW4oImNhdXNlX29mX2RlYXRoX0JDIixmLndoZW4oZi5jb2woInBydm90bmlfcHJpY2luYV91bXJ0aV9rb2QiKS5ybGlrZSgiQzVbMC05XXsyfSIpLCAxKS5vdGhlcndpc2UoMCkpCiAgICAgICAgLndpdGhDb2x1bW4oImRlYWRfNV95ZWFyc19iYyIsZi53aGVuKChmLmNvbCgidGltZV9kYXR1bV9kZ190b191bXJ0aSIpIDwgNSAqIDM2NSkgJiAoZi5jb2woImNhdXNlX29mX2RlYXRoX0JDIikgPT0gMSksMSkud2hlbigKICAgICAgICAgICAgICAgIChmLmNvbCgib2JzZXJ2ZWRfdGltZV93aW5kb3ciKSA9PSAxKSAmIChmLmNvbCgiY2F1c2Vfb2ZfZGVhdGhfQkMiKSA9PSAwKSwgMCkub3RoZXJ3aXNlKDApCikKICAgICAgICAp\").decode())\n\ntry:\n    # run user code\n    __backend_agg_user_code_fn()\n\n    #reset display function\n    display = __backend_agg_display_orig\n\n    if len(__backend_agg_dfs) > 0:\n        # create a temp view\n        if type(__backend_agg_dfs[0]).__module__ == \"databricks.koalas.frame\":\n            # koalas dataframe\n            __backend_agg_dfs[0].to_spark().createOrReplaceTempView(\"DatabricksViewef55fd9\")\n        elif type(__backend_agg_dfs[0]).__module__ == \"pandas.core.frame\" or isinstance(__backend_agg_dfs[0], list):\n            # pandas dataframe\n            spark.createDataFrame(__backend_agg_dfs[0]).createOrReplaceTempView(\"DatabricksViewef55fd9\")\n        else:\n            __backend_agg_dfs[0].createOrReplaceTempView(\"DatabricksViewef55fd9\")\n        #run backend agg\n        display(spark.sql(\"\"\"WITH q AS (select * from DatabricksViewef55fd9) SELECT `dead_5_years_bc`,COUNT(*) `column_be0a1c56165`,`dead_5_years_bc` FROM q GROUP BY `dead_5_years_bc`\"\"\"))\n    else:\n        displayHTML(\"dataframe no longer exists. If you're using dataframe.display(), use display(dataframe) instead.\")\n\n\nfinally:\n    spark.sql(\"drop view if exists DatabricksViewef55fd9\")\n    display = __backend_agg_display_orig\n    del __backend_agg_display_new\n    del __backend_agg_display_orig\n    del __backend_agg_dfs\n    del __backend_agg_user_code_fn\n\n",
       "commandTitle": "Visualization 2",
       "commandType": "auto",
       "commandVersion": 0,
       "commentThread": [],
       "commentsVisible": false,
       "contentSha256Hex": null,
       "customPlotOptions": {
        "redashChart": [
         {
          "key": "type",
          "value": "CHART"
         },
         {
          "key": "options",
          "value": {
           "alignYAxesAtZero": true,
           "coefficient": 1,
           "columnConfigurationMap": {
            "series": {
             "column": "dead_5_years_bc",
             "id": "column_be0a1c56170"
            },
            "x": {
             "column": "dead_5_years_bc",
             "id": "column_be0a1c56169"
            },
            "y": [
             {
              "column": "*",
              "id": "column_be0a1c56165",
              "transform": "COUNT"
             }
            ]
           },
           "dateTimeFormat": "DD/MM/YYYY HH:mm",
           "direction": {
            "type": "counterclockwise"
           },
           "error_y": {
            "type": "data",
            "visible": true
           },
           "globalSeriesType": "column",
           "isAggregationOn": true,
           "legend": {
            "traceorder": "normal"
           },
           "missingValuesAsZero": true,
           "numberFormat": "0,0.[00000]",
           "percentFormat": "0[.]00%",
           "series": {
            "error_y": {
             "type": "data",
             "visible": true
            },
            "stacking": null
           },
           "seriesOptions": {
            "column_be0a1c56165": {
             "type": "column",
             "yAxis": 0
            }
           },
           "showDataLabels": false,
           "sizemode": "diameter",
           "sortX": true,
           "sortY": true,
           "swappedAxes": false,
           "textFormat": "",
           "useAggregationsUi": true,
           "valuesOptions": {},
           "version": 2,
           "xAxis": {
            "labels": {
             "enabled": true
            },
            "type": "-"
           },
           "yAxis": [
            {
             "type": "-"
            },
            {
             "opposite": true,
             "type": "-"
            }
           ]
          }
         }
        ]
       },
       "datasetPreviewNameToCmdIdMap": {},
       "diffDeletes": [],
       "diffInserts": [],
       "displayType": "redashChart",
       "error": null,
       "errorDetails": null,
       "errorSummary": null,
       "errorTraceType": null,
       "finishTime": 0,
       "globalVars": {},
       "guid": "",
       "height": "auto",
       "hideCommandCode": false,
       "hideCommandResult": false,
       "iPythonMetadata": null,
       "inputWidgets": {},
       "isLockedInExamMode": false,
       "latestUser": "a user",
       "latestUserId": null,
       "listResultMetadata": null,
       "metadata": {
        "byteLimit": 2048000,
        "rowLimit": 10000
       },
       "nuid": "e52a1557-356a-41da-8179-12ca30c6461a",
       "origId": 0,
       "parentHierarchy": [],
       "pivotAggregation": null,
       "pivotColumns": null,
       "position": 18.0,
       "resultDbfsErrorMessage": null,
       "resultDbfsStatus": "INLINED_IN_TREE",
       "results": null,
       "showCommandTitle": false,
       "startTime": 0,
       "state": "input",
       "streamStates": {},
       "subcommandOptions": {
        "queryPlan": {
         "groups": [
          {
           "column": "dead_5_years_bc",
           "type": "column"
          },
          {
           "column": "dead_5_years_bc",
           "type": "column"
          }
         ],
         "selects": [
          {
           "column": "dead_5_years_bc",
           "type": "column"
          },
          {
           "alias": "column_be0a1c56165",
           "args": [
            {
             "column": "*",
             "type": "column"
            }
           ],
           "function": "COUNT",
           "type": "function"
          },
          {
           "column": "dead_5_years_bc",
           "type": "column"
          }
         ]
        }
       },
       "submitTime": 0,
       "subtype": "tableResultSubCmd.visualization",
       "tableResultIndex": 0,
       "tableResultSettingsMap": {},
       "useConsistentColors": false,
       "version": "CommandV1",
       "width": "auto",
       "workflows": null,
       "xColumns": null,
       "yColumns": null
      }
     },
     "output_type": "display_data"
    }
   ],
   "source": [
    "rekurze_recidiva_cleansed_nl_death = (rekurze_recidiva_cleansed_nl\n",
    "        .filter(f.col(\"vnejsi_pricina_umrti_kod\").isNull())\n",
    "        .withColumn(\"cause_of_death_BC\",f.when(f.col(\"prvotni_pricina_umrti_kod\").rlike(\"C5[0-9]{2}\"), 1).otherwise(0))\n",
    "        .withColumn(\"dead_5_years_bc\",f.when((f.col(\"time_datum_dg_to_umrti\") < 5 * 365) & (f.col(\"cause_of_death_BC\") == 1),1).when(\n",
    "                (f.col(\"observed_time_window\") == 1) & (f.col(\"cause_of_death_BC\") == 0), 0).otherwise(None)\n",
    ")\n",
    "        )"
   ]
  },
  {
   "cell_type": "code",
   "execution_count": 0,
   "metadata": {
    "application/vnd.databricks.v1+cell": {
     "cellMetadata": {
      "byteLimit": 2048000,
      "rowLimit": 10000
     },
     "inputWidgets": {},
     "nuid": "e9ee24fe-10d3-40cd-b6d3-c3376d2c4f61",
     "showTitle": false,
     "tableResultSettingsMap": {},
     "title": ""
    }
   },
   "outputs": [],
   "source": [
    "#rekurze_recidiva_cleansed_nl_death.write.mode(\"overwrite\").saveAsTable(\"rakathon_hackathon.rekurze.rekurze_death_initial_set\")"
   ]
  }
 ],
 "metadata": {
  "application/vnd.databricks.v1+notebook": {
   "computePreferences": null,
   "dashboards": [],
   "environmentMetadata": {
    "base_environment": "",
    "environment_version": "2"
   },
   "inputWidgetPreferences": null,
   "language": "python",
   "notebookMetadata": {
    "pythonIndentUnit": 4
   },
   "notebookName": "EDA_lb",
   "widgets": {}
  },
  "language_info": {
   "name": "python"
  }
 },
 "nbformat": 4,
 "nbformat_minor": 0
}
