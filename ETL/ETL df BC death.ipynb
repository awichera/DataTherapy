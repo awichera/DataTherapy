{
 "cells": [
  {
   "cell_type": "code",
   "execution_count": 0,
   "metadata": {
    "application/vnd.databricks.v1+cell": {
     "cellMetadata": {
      "byteLimit": 2048000,
      "rowLimit": 10000
     },
     "inputWidgets": {},
     "nuid": "d55fb105-c9f5-4ddb-9abe-40bf13fa0ca2",
     "showTitle": false,
     "tableResultSettingsMap": {},
     "title": ""
    }
   },
   "outputs": [],
   "source": [
    "from pyspark.sql import functions as f\n",
    "from functools import reduce"
   ]
  },
  {
   "cell_type": "code",
   "execution_count": 0,
   "metadata": {
    "application/vnd.databricks.v1+cell": {
     "cellMetadata": {
      "byteLimit": 2048000,
      "rowLimit": 10000
     },
     "inputWidgets": {},
     "nuid": "79903d46-77a6-444c-b32b-41df5d9f34e7",
     "showTitle": false,
     "tableResultSettingsMap": {},
     "title": ""
    }
   },
   "outputs": [],
   "source": [
    "# kody, ktere znamenaji relaps\n",
    "nl_target = [\n",
    "    #operace\n",
    "    \"51233\",\"51235\", \"51237\", \"51239\", \"51283\", \"51285\", \"51287\", \"51289\",\n",
    "    #radio\n",
    "    \"43415\", \"43213\", \"43315\", \"43633\", \"43641\",\n",
    "    #centrove\n",
    "    \"L01FD01\",\n",
    "    #chemo\n",
    "    \"L01AA01\", \"L01BC02\", \"L01BC06\", \"L01CA04\", \"L01CD01\", \"L01CD02\", \"L01DB01\", \"L01DB03\", \"L01XA02\",\n",
    "    #imuno\n",
    "    \"L04AX03\"]\n",
    "\n",
    "print(nl_target)"
   ]
  },
  {
   "cell_type": "code",
   "execution_count": 0,
   "metadata": {
    "application/vnd.databricks.v1+cell": {
     "cellMetadata": {
      "byteLimit": 2048000,
      "rowLimit": 10000
     },
     "inputWidgets": {},
     "nuid": "55895027-2f0c-4c67-a971-288b15d5c60a",
     "showTitle": false,
     "tableResultSettingsMap": {},
     "title": ""
    }
   },
   "outputs": [],
   "source": [
    "rekurze_recidiva_cleansed_nl = spark.read.table(\"rakathon_hackathon.rekurze.rekurze_initial_set\")"
   ]
  },
  {
   "cell_type": "code",
   "execution_count": 0,
   "metadata": {
    "application/vnd.databricks.v1+cell": {
     "cellMetadata": {
      "byteLimit": 2048000,
      "rowLimit": 10000
     },
     "inputWidgets": {},
     "nuid": "e889bb5a-8143-4064-ae9b-24e420bb1c77",
     "showTitle": false,
     "tableResultSettingsMap": {},
     "title": ""
    }
   },
   "outputs": [],
   "source": [
    "rekurze_recidiva_cleansed_nl_death = (rekurze_recidiva_cleansed_nl\n",
    "        .filter(f.col(\"vnejsi_pricina_umrti_kod\").isNull())\n",
    "        .withColumn(\"cause_of_death_BC\",f.when(f.col(\"prvotni_pricina_umrti_kod\").rlike(\"C5[0-9]{2}\"), 1).otherwise(0))\n",
    "        .withColumn(\"death_after_pl\",f.col(\"time_datum_dg_to_umrti\") - f.col(\"pl_delka\"))\n",
    "        .withColumn(\"dead_5_years_bc\",\n",
    "                    f.when((f.col(\"death_after_pl\") < 5 * 365) \n",
    "                           & (f.col(\"cause_of_death_BC\") == 1),1)\n",
    "                    .when((f.col(\"observed_time_window\") == 1) \n",
    "                          & ((f.col(\"cause_of_death_BC\") == 0)\n",
    "                          | (f.col(\"death_after_pl\") >= 5 * 365)) , 0)\n",
    "                    .otherwise(None)\n",
    ")\n",
    "        )\n",
    "display(rekurze_recidiva_cleansed_nl_death)"
   ]
  },
  {
   "cell_type": "code",
   "execution_count": 0,
   "metadata": {
    "application/vnd.databricks.v1+cell": {
     "cellMetadata": {
      "byteLimit": 2048000,
      "rowLimit": 10000
     },
     "inputWidgets": {},
     "nuid": "45f5c92b-4e65-4fed-ac9e-64cfabb3d587",
     "showTitle": false,
     "tableResultSettingsMap": {},
     "title": ""
    }
   },
   "outputs": [],
   "source": [
    "rekurze_recidiva_cleansed_nl_death_relaps = (rekurze_recidiva_cleansed_nl_death\n",
    "    .withColumn(\"pl_nl\", (f.col(\"time_datum_dg_to_zahajeni_nl\") - f.col(\"time_datum_dg_to_zahajeni_pl\")))\n",
    "    .withColumn(\"new_relaps\",\n",
    "    f.when((\n",
    "        f.col(\"nl_kod_lecby_1\").isin(nl_target)\n",
    "        | f.col(\"nl_kod_lecby_2\").isin(nl_target)\n",
    "        | f.col(\"nl_kod_lecby_3\").isin(nl_target)\n",
    "        | f.col(\"nl_kod_lecby_4\").isin(nl_target)\n",
    "        | f.col(\"nl_kod_lecby_5\").isin(nl_target)\n",
    "        | f.col(\"nl_kod_lecby_6\").isin(nl_target)\n",
    "        | f.col(\"nl_kod_lecby_7\").isin(nl_target)\n",
    "        | f.col(\"nl_kod_lecby_8\").isin(nl_target)\n",
    "        | f.col(\"nl_kod_lecby_9\").isin(nl_target)\n",
    "        | f.col(\"nl_kod_lecby_10\").isin(nl_target))\n",
    "        &(f.col(\"stadium\")!= 4),\n",
    "        1)\n",
    "    .otherwise(0)\n",
    ")\n",
    "    .withColumn(\"relaps_5_years\",f.when((f.col(\"pl_nl\") < 5 * 365) \n",
    "                                        & (f.col(\"new_relaps\") == 1),1)\n",
    "                                .when((f.col(\"observed_time_window\") == 1) \n",
    "                                      & ((f.col(\"new_relaps\") == 0)\n",
    "                                      | (f.col(\"pl_nl\") >= 5 * 365)) , 0)\n",
    "                                .otherwise(None)\n",
    "                                )\n",
    "    \n",
    "    )\n",
    "display(rekurze_recidiva_cleansed_nl_death_relaps)"
   ]
  },
  {
   "cell_type": "code",
   "execution_count": 0,
   "metadata": {
    "application/vnd.databricks.v1+cell": {
     "cellMetadata": {
      "byteLimit": 2048000,
      "rowLimit": 10000
     },
     "inputWidgets": {},
     "nuid": "1ef3f453-1f9e-43e0-85a3-a1a96228d4a9",
     "showTitle": false,
     "tableResultSettingsMap": {},
     "title": ""
    }
   },
   "outputs": [],
   "source": [
    "#rekurze_recidiva_cleansed_nl_death_relaps.write.mode(\"overwrite\").option(\"mergeSchema\", \"true\").saveAsTable(\"rakathon_hackathon.rekurze.rekurze_death_initial_set_oprava\")"
   ]
  },
  {
   "cell_type": "code",
   "execution_count": 0,
   "metadata": {
    "application/vnd.databricks.v1+cell": {
     "cellMetadata": {
      "byteLimit": 2048000,
      "rowLimit": 10000
     },
     "inputWidgets": {},
     "nuid": "54ea414c-0b3d-438d-977f-af75f4490a91",
     "showTitle": false,
     "tableResultSettingsMap": {},
     "title": ""
    }
   },
   "outputs": [
    {
     "output_type": "display_data",
     "data": {
      "text/plain": [
       "Databricks visualization. Run in Databricks to view."
      ]
     },
     "metadata": {
      "application/vnd.databricks.v1.subcommand+json": {
       "baseErrorDetails": null,
       "bindings": {},
       "collapsed": false,
       "command": "%python\n__backend_agg_display_orig = display\n__backend_agg_dfs = []\ndef __backend_agg_display_new(df):\n    __backend_agg_df_modules = [\"pandas.core.frame\", \"databricks.koalas.frame\", \"pyspark.sql.dataframe\", \"pyspark.pandas.frame\", \"pyspark.sql.connect.dataframe\"]\n    if (type(df).__module__ in __backend_agg_df_modules and type(df).__name__ == 'DataFrame') or isinstance(df, list):\n        __backend_agg_dfs.append(df)\n\ndisplay = __backend_agg_display_new\n\ndef __backend_agg_user_code_fn():\n    import base64\n    exec(base64.standard_b64decode(\"ZGlzcGxheShyZWt1cnplX3JlY2lkaXZhX2NsZWFuc2VkX25sX2RlYXRoKQ==\").decode())\n\ntry:\n    # run user code\n    __backend_agg_user_code_fn()\n\n    #reset display function\n    display = __backend_agg_display_orig\n\n    if len(__backend_agg_dfs) > 0:\n        # create a temp view\n        if type(__backend_agg_dfs[0]).__module__ == \"databricks.koalas.frame\":\n            # koalas dataframe\n            __backend_agg_dfs[0].to_spark().createOrReplaceTempView(\"DatabricksViewf575aa3\")\n        elif type(__backend_agg_dfs[0]).__module__ == \"pandas.core.frame\" or isinstance(__backend_agg_dfs[0], list):\n            # pandas dataframe\n            spark.createDataFrame(__backend_agg_dfs[0]).createOrReplaceTempView(\"DatabricksViewf575aa3\")\n        else:\n            __backend_agg_dfs[0].createOrReplaceTempView(\"DatabricksViewf575aa3\")\n        #run backend agg\n        display(spark.sql(\"\"\"WITH q AS (select * from DatabricksViewf575aa3) SELECT `dead_5_years_bc`,COUNT(*) `column_5ff28e9217`,`dead_5_years_bc` FROM q GROUP BY `dead_5_years_bc`\"\"\"))\n    else:\n        displayHTML(\"dataframe no longer exists. If you're using dataframe.display(), use display(dataframe) instead.\")\n\n\nfinally:\n    spark.sql(\"drop view if exists DatabricksViewf575aa3\")\n    display = __backend_agg_display_orig\n    del __backend_agg_display_new\n    del __backend_agg_display_orig\n    del __backend_agg_dfs\n    del __backend_agg_user_code_fn\n\n",
       "commandTitle": "Visualization 1",
       "commandType": "auto",
       "commandVersion": 0,
       "commentThread": [],
       "commentsVisible": false,
       "contentSha256Hex": null,
       "customPlotOptions": {
        "redashChart": [
         {
          "key": "type",
          "value": "CHART"
         },
         {
          "key": "options",
          "value": {
           "alignYAxesAtZero": true,
           "coefficient": 1,
           "columnConfigurationMap": {
            "series": {
             "column": "dead_5_years_bc",
             "id": "column_5ff28e9215"
            },
            "x": {
             "column": "dead_5_years_bc",
             "id": "column_5ff28e9214"
            },
            "y": [
             {
              "column": "*",
              "id": "column_5ff28e9217",
              "transform": "COUNT"
             }
            ]
           },
           "dateTimeFormat": "DD/MM/YYYY HH:mm",
           "direction": {
            "type": "counterclockwise"
           },
           "error_y": {
            "type": "data",
            "visible": true
           },
           "globalSeriesType": "column",
           "isAggregationOn": true,
           "legend": {
            "traceorder": "normal"
           },
           "missingValuesAsZero": true,
           "numberFormat": "0,0.[00000]",
           "percentFormat": "0[.]00%",
           "series": {
            "error_y": {
             "type": "data",
             "visible": true
            },
            "stacking": null
           },
           "seriesOptions": {
            "column_5ff28e9217": {
             "type": "column",
             "yAxis": 0
            }
           },
           "showDataLabels": false,
           "sizemode": "diameter",
           "sortX": true,
           "sortY": true,
           "swappedAxes": false,
           "textFormat": "",
           "useAggregationsUi": true,
           "valuesOptions": {},
           "version": 2,
           "xAxis": {
            "labels": {
             "enabled": true
            },
            "type": "-"
           },
           "yAxis": [
            {
             "type": "-"
            },
            {
             "opposite": true,
             "type": "-"
            }
           ]
          }
         }
        ]
       },
       "datasetPreviewNameToCmdIdMap": {},
       "diffDeletes": [],
       "diffInserts": [],
       "displayType": "redashChart",
       "error": null,
       "errorDetails": null,
       "errorSummary": null,
       "errorTraceType": null,
       "finishTime": 1744497628042,
       "globalVars": {},
       "guid": "",
       "height": "auto",
       "hideCommandCode": false,
       "hideCommandResult": false,
       "iPythonMetadata": null,
       "inputWidgets": {},
       "isLockedInExamMode": false,
       "latestUser": "a user",
       "latestUserId": null,
       "listResultMetadata": [
        [
         "table",
         3
        ]
       ],
       "metadata": {
        "byteLimit": 2048000,
        "rowLimit": 10000
       },
       "nuid": "750de7b5-900e-4687-9440-a164342d4315",
       "origId": 0,
       "parentHierarchy": [],
       "pivotAggregation": null,
       "pivotColumns": null,
       "position": 4.0,
       "resultDbfsErrorMessage": null,
       "resultDbfsStatus": "INLINED_IN_TREE",
       "results": null,
       "showCommandTitle": false,
       "startTime": 1744497626746,
       "state": "input",
       "streamStates": {},
       "subcommandOptions": {
        "queryPlan": {
         "groups": [
          {
           "column": "dead_5_years_bc",
           "type": "column"
          },
          {
           "column": "dead_5_years_bc",
           "type": "column"
          }
         ],
         "selects": [
          {
           "column": "dead_5_years_bc",
           "type": "column"
          },
          {
           "alias": "column_5ff28e9217",
           "args": [
            {
             "column": "*",
             "type": "column"
            }
           ],
           "function": "COUNT",
           "type": "function"
          },
          {
           "column": "dead_5_years_bc",
           "type": "column"
          }
         ]
        }
       },
       "submitTime": 1744497613276,
       "subtype": "tableResultSubCmd.visualization",
       "tableResultIndex": 0,
       "tableResultSettingsMap": {},
       "useConsistentColors": false,
       "version": "CommandV1",
       "width": "auto",
       "workflows": null,
       "xColumns": null,
       "yColumns": null
      }
     },
     "output_type": "display_data"
    },
    {
     "output_type": "display_data",
     "data": {
      "text/plain": [
       "Databricks visualization. Run in Databricks to view."
      ]
     },
     "metadata": {
      "application/vnd.databricks.v1.subcommand+json": {
       "baseErrorDetails": null,
       "bindings": {},
       "collapsed": false,
       "command": "%python\n__backend_agg_display_orig = display\n__backend_agg_dfs = []\ndef __backend_agg_display_new(df):\n    __backend_agg_df_modules = [\"pandas.core.frame\", \"databricks.koalas.frame\", \"pyspark.sql.dataframe\", \"pyspark.pandas.frame\", \"pyspark.sql.connect.dataframe\"]\n    if (type(df).__module__ in __backend_agg_df_modules and type(df).__name__ == 'DataFrame') or isinstance(df, list):\n        __backend_agg_dfs.append(df)\n\ndisplay = __backend_agg_display_new\n\ndef __backend_agg_user_code_fn():\n    import base64\n    exec(base64.standard_b64decode(\"ZGlzcGxheShyZWt1cnplX3JlY2lkaXZhX2NsZWFuc2VkX25sX2RlYXRoKQ==\").decode())\n\ntry:\n    # run user code\n    __backend_agg_user_code_fn()\n\n    #reset display function\n    display = __backend_agg_display_orig\n\n    if len(__backend_agg_dfs) > 0:\n        # create a temp view\n        if type(__backend_agg_dfs[0]).__module__ == \"databricks.koalas.frame\":\n            # koalas dataframe\n            __backend_agg_dfs[0].to_spark().createOrReplaceTempView(\"DatabricksViewac16d91\")\n        elif type(__backend_agg_dfs[0]).__module__ == \"pandas.core.frame\" or isinstance(__backend_agg_dfs[0], list):\n            # pandas dataframe\n            spark.createDataFrame(__backend_agg_dfs[0]).createOrReplaceTempView(\"DatabricksViewac16d91\")\n        else:\n            __backend_agg_dfs[0].createOrReplaceTempView(\"DatabricksViewac16d91\")\n        #run backend agg\n        display(spark.sql(\"\"\"WITH q AS (select * from DatabricksViewac16d91) SELECT `lateralita_kod`,COUNT(*) `column_5ff28e9227`,`lateralita_kod` FROM q GROUP BY `lateralita_kod`\"\"\"))\n    else:\n        displayHTML(\"dataframe no longer exists. If you're using dataframe.display(), use display(dataframe) instead.\")\n\n\nfinally:\n    spark.sql(\"drop view if exists DatabricksViewac16d91\")\n    display = __backend_agg_display_orig\n    del __backend_agg_display_new\n    del __backend_agg_display_orig\n    del __backend_agg_dfs\n    del __backend_agg_user_code_fn\n\n",
       "commandTitle": "Visualization 2",
       "commandType": "auto",
       "commandVersion": 0,
       "commentThread": [],
       "commentsVisible": false,
       "contentSha256Hex": null,
       "customPlotOptions": {
        "redashChart": [
         {
          "key": "type",
          "value": "CHART"
         },
         {
          "key": "options",
          "value": {
           "alignYAxesAtZero": true,
           "coefficient": 1,
           "columnConfigurationMap": {
            "series": {
             "column": "lateralita_kod",
             "id": "column_5ff28e9225"
            },
            "x": {
             "column": "lateralita_kod",
             "id": "column_5ff28e9224"
            },
            "y": [
             {
              "column": "*",
              "id": "column_5ff28e9227",
              "transform": "COUNT"
             }
            ]
           },
           "dateTimeFormat": "DD/MM/YYYY HH:mm",
           "direction": {
            "type": "counterclockwise"
           },
           "error_y": {
            "type": "data",
            "visible": true
           },
           "globalSeriesType": "column",
           "isAggregationOn": true,
           "legend": {
            "traceorder": "normal"
           },
           "missingValuesAsZero": true,
           "numberFormat": "0,0.[00000]",
           "percentFormat": "0[.]00%",
           "series": {
            "error_y": {
             "type": "data",
             "visible": true
            },
            "stacking": null
           },
           "seriesOptions": {
            "column_5ff28e9227": {
             "type": "column",
             "yAxis": 0
            }
           },
           "showDataLabels": false,
           "sizemode": "diameter",
           "sortX": true,
           "sortY": true,
           "swappedAxes": false,
           "textFormat": "",
           "useAggregationsUi": true,
           "valuesOptions": {},
           "version": 2,
           "xAxis": {
            "labels": {
             "enabled": true
            },
            "type": "-"
           },
           "yAxis": [
            {
             "type": "-"
            },
            {
             "opposite": true,
             "type": "-"
            }
           ]
          }
         }
        ]
       },
       "datasetPreviewNameToCmdIdMap": {},
       "diffDeletes": [],
       "diffInserts": [],
       "displayType": "redashChart",
       "error": null,
       "errorDetails": null,
       "errorSummary": null,
       "errorTraceType": null,
       "finishTime": 1744497626737,
       "globalVars": {},
       "guid": "",
       "height": "auto",
       "hideCommandCode": false,
       "hideCommandResult": false,
       "iPythonMetadata": null,
       "inputWidgets": {},
       "isLockedInExamMode": false,
       "latestUser": "a user",
       "latestUserId": null,
       "listResultMetadata": [
        [
         "table",
         5
        ]
       ],
       "metadata": {
        "byteLimit": 2048000,
        "rowLimit": 10000
       },
       "nuid": "ed5beacc-9ce9-4c66-ae57-78318ec5b0f1",
       "origId": 0,
       "parentHierarchy": [],
       "pivotAggregation": null,
       "pivotColumns": null,
       "position": 5.0,
       "resultDbfsErrorMessage": null,
       "resultDbfsStatus": "INLINED_IN_TREE",
       "results": null,
       "showCommandTitle": false,
       "startTime": 1744497625343,
       "state": "input",
       "streamStates": {},
       "subcommandOptions": {
        "queryPlan": {
         "groups": [
          {
           "column": "lateralita_kod",
           "type": "column"
          },
          {
           "column": "lateralita_kod",
           "type": "column"
          }
         ],
         "selects": [
          {
           "column": "lateralita_kod",
           "type": "column"
          },
          {
           "alias": "column_5ff28e9227",
           "args": [
            {
             "column": "*",
             "type": "column"
            }
           ],
           "function": "COUNT",
           "type": "function"
          },
          {
           "column": "lateralita_kod",
           "type": "column"
          }
         ]
        }
       },
       "submitTime": 1744497613288,
       "subtype": "tableResultSubCmd.visualization",
       "tableResultIndex": 0,
       "tableResultSettingsMap": {},
       "useConsistentColors": false,
       "version": "CommandV1",
       "width": "auto",
       "workflows": null,
       "xColumns": null,
       "yColumns": null
      }
     },
     "output_type": "display_data"
    },
    {
     "output_type": "display_data",
     "data": {
      "text/plain": [
       "Databricks visualization. Run in Databricks to view."
      ]
     },
     "metadata": {
      "application/vnd.databricks.v1.subcommand+json": {
       "baseErrorDetails": null,
       "bindings": {},
       "collapsed": false,
       "command": "%python\n__backend_agg_display_orig = display\n__backend_agg_dfs = []\ndef __backend_agg_display_new(df):\n    __backend_agg_df_modules = [\"pandas.core.frame\", \"databricks.koalas.frame\", \"pyspark.sql.dataframe\", \"pyspark.pandas.frame\", \"pyspark.sql.connect.dataframe\"]\n    if (type(df).__module__ in __backend_agg_df_modules and type(df).__name__ == 'DataFrame') or isinstance(df, list):\n        __backend_agg_dfs.append(df)\n\ndisplay = __backend_agg_display_new\n\ndef __backend_agg_user_code_fn():\n    import base64\n    exec(base64.standard_b64decode(\"ZGlzcGxheShyZWt1cnplX3JlY2lkaXZhX2NsZWFuc2VkX25sX2RlYXRoKQ==\").decode())\n\ntry:\n    # run user code\n    __backend_agg_user_code_fn()\n\n    #reset display function\n    display = __backend_agg_display_orig\n\n    if len(__backend_agg_dfs) > 0:\n        # create a temp view\n        if type(__backend_agg_dfs[0]).__module__ == \"databricks.koalas.frame\":\n            # koalas dataframe\n            __backend_agg_dfs[0].to_spark().createOrReplaceTempView(\"DatabricksView4dbb487\")\n        elif type(__backend_agg_dfs[0]).__module__ == \"pandas.core.frame\" or isinstance(__backend_agg_dfs[0], list):\n            # pandas dataframe\n            spark.createDataFrame(__backend_agg_dfs[0]).createOrReplaceTempView(\"DatabricksView4dbb487\")\n        else:\n            __backend_agg_dfs[0].createOrReplaceTempView(\"DatabricksView4dbb487\")\n        #run backend agg\n        display(spark.sql(\"\"\"WITH q AS (select * from DatabricksView4dbb487) SELECT `tnm_klasifikace_metastazy_oth`,AVG(`dead_5_years_bc`) `column_5ff28e9231` FROM q GROUP BY `tnm_klasifikace_metastazy_oth`\"\"\"))\n    else:\n        displayHTML(\"dataframe no longer exists. If you're using dataframe.display(), use display(dataframe) instead.\")\n\n\nfinally:\n    spark.sql(\"drop view if exists DatabricksView4dbb487\")\n    display = __backend_agg_display_orig\n    del __backend_agg_display_new\n    del __backend_agg_display_orig\n    del __backend_agg_dfs\n    del __backend_agg_user_code_fn\n\n",
       "commandTitle": "Visualization 3",
       "commandType": "auto",
       "commandVersion": 0,
       "commentThread": [],
       "commentsVisible": false,
       "contentSha256Hex": null,
       "customPlotOptions": {
        "redashChart": [
         {
          "key": "type",
          "value": "CHART"
         },
         {
          "key": "options",
          "value": {
           "alignYAxesAtZero": true,
           "coefficient": 1,
           "columnConfigurationMap": {
            "x": {
             "column": "tnm_klasifikace_metastazy_oth",
             "id": "column_5ff28e9229"
            },
            "y": [
             {
              "column": "dead_5_years_bc",
              "id": "column_5ff28e9231",
              "transform": "AVG"
             }
            ]
           },
           "dateTimeFormat": "DD/MM/YYYY HH:mm",
           "direction": {
            "type": "counterclockwise"
           },
           "error_y": {
            "type": "data",
            "visible": true
           },
           "globalSeriesType": "column",
           "isAggregationOn": true,
           "legend": {
            "traceorder": "normal"
           },
           "missingValuesAsZero": true,
           "numberFormat": "0,0.[00000]",
           "percentFormat": "0[.]00%",
           "series": {
            "error_y": {
             "type": "data",
             "visible": true
            },
            "stacking": null
           },
           "seriesOptions": {
            "column_5ff28e9231": {
             "type": "column",
             "yAxis": 0
            }
           },
           "showDataLabels": false,
           "sizemode": "diameter",
           "sortX": true,
           "sortY": true,
           "swappedAxes": false,
           "textFormat": "",
           "useAggregationsUi": true,
           "valuesOptions": {},
           "version": 2,
           "xAxis": {
            "labels": {
             "enabled": true
            },
            "type": "-"
           },
           "yAxis": [
            {
             "type": "-"
            },
            {
             "opposite": true,
             "type": "-"
            }
           ]
          }
         }
        ]
       },
       "datasetPreviewNameToCmdIdMap": {},
       "diffDeletes": [],
       "diffInserts": [],
       "displayType": "redashChart",
       "error": null,
       "errorDetails": null,
       "errorSummary": null,
       "errorTraceType": null,
       "finishTime": 1744497625335,
       "globalVars": {},
       "guid": "",
       "height": "auto",
       "hideCommandCode": false,
       "hideCommandResult": false,
       "iPythonMetadata": null,
       "inputWidgets": {},
       "isLockedInExamMode": false,
       "latestUser": "a user",
       "latestUserId": null,
       "listResultMetadata": [
        [
         "table",
         2
        ]
       ],
       "metadata": {
        "byteLimit": 2048000,
        "rowLimit": 10000
       },
       "nuid": "8cc454b7-8599-4488-aedc-bfe11230a7a7",
       "origId": 0,
       "parentHierarchy": [],
       "pivotAggregation": null,
       "pivotColumns": null,
       "position": 6.0,
       "resultDbfsErrorMessage": null,
       "resultDbfsStatus": "INLINED_IN_TREE",
       "results": null,
       "showCommandTitle": false,
       "startTime": 1744497622972,
       "state": "input",
       "streamStates": {},
       "subcommandOptions": {
        "queryPlan": {
         "groups": [
          {
           "column": "tnm_klasifikace_metastazy_oth",
           "type": "column"
          }
         ],
         "selects": [
          {
           "column": "tnm_klasifikace_metastazy_oth",
           "type": "column"
          },
          {
           "alias": "column_5ff28e9231",
           "args": [
            {
             "column": "dead_5_years_bc",
             "type": "column"
            }
           ],
           "function": "AVG",
           "type": "function"
          }
         ]
        }
       },
       "submitTime": 1744497613309,
       "subtype": "tableResultSubCmd.visualization",
       "tableResultIndex": 0,
       "tableResultSettingsMap": {},
       "useConsistentColors": false,
       "version": "CommandV1",
       "width": "auto",
       "workflows": null,
       "xColumns": null,
       "yColumns": null
      }
     },
     "output_type": "display_data"
    }
   ],
   "source": [
    "display(rekurze_recidiva_cleansed_nl_death)"
   ]
  },
  {
   "cell_type": "markdown",
   "metadata": {
    "application/vnd.databricks.v1+cell": {
     "cellMetadata": {
      "byteLimit": 2048000,
      "rowLimit": 10000
     },
     "inputWidgets": {},
     "nuid": "84d07408-b90c-4fd1-b2e5-782f14936b5c",
     "showTitle": false,
     "tableResultSettingsMap": {},
     "title": ""
    }
   },
   "source": [
    "# Z prava cenzurovane"
   ]
  },
  {
   "cell_type": "code",
   "execution_count": 0,
   "metadata": {
    "application/vnd.databricks.v1+cell": {
     "cellMetadata": {
      "byteLimit": 2048000,
      "rowLimit": 10000
     },
     "inputWidgets": {},
     "nuid": "ee43e2b4-605f-4bd0-8afd-035d10be53f5",
     "showTitle": false,
     "tableResultSettingsMap": {},
     "title": ""
    }
   },
   "outputs": [],
   "source": [
    "rekurze_recidiva_cleansed_nl_death_censured = (rekurze_recidiva_cleansed_nl\n",
    "        .filter(f.col(\"vnejsi_pricina_umrti_kod\").isNull())\n",
    "        .withColumn(\"cause_of_death_BC\",f.when(f.col(\"prvotni_pricina_umrti_kod\").rlike(\"C5[0-9]{2}\"), 1).otherwise(0))\n",
    "        .withColumn(\"death_after_pl\",f.col(\"time_datum_dg_to_umrti\") - f.col(\"pl_delka\"))\n",
    "        .withColumn(\"dead_5_years_bc\",\n",
    "                    f.when((f.col(\"death_after_pl\") < 5 * 365) \n",
    "                           & (f.col(\"cause_of_death_BC\") == 1)\n",
    "                           & (f.col(\"observed_time_window\") == 1),1)\n",
    "                    .when((f.col(\"observed_time_window\") == 1) \n",
    "                          & ((f.col(\"cause_of_death_BC\") == 0)\n",
    "                          | (f.col(\"death_after_pl\") >= 5 * 365)) , 0)\n",
    "                    .otherwise(None)\n",
    ")\n",
    "        )\n",
    "display(rekurze_recidiva_cleansed_nl_death_censured)\n"
   ]
  },
  {
   "cell_type": "code",
   "execution_count": 0,
   "metadata": {
    "application/vnd.databricks.v1+cell": {
     "cellMetadata": {
      "byteLimit": 2048000,
      "rowLimit": 10000
     },
     "inputWidgets": {},
     "nuid": "b620a0f2-3c80-4b18-ad5a-dbe4cc584128",
     "showTitle": false,
     "tableResultSettingsMap": {},
     "title": ""
    }
   },
   "outputs": [],
   "source": [
    "rekurze_recidiva_cleansed_nl_death_relaps_censured = (rekurze_recidiva_cleansed_nl_death_censured\n",
    "    .withColumn(\"pl_nl\", (f.col(\"time_datum_dg_to_zahajeni_nl\") - f.col(\"time_datum_dg_to_zahajeni_pl\")))\n",
    "    .withColumn(\"new_relaps\",\n",
    "    f.when(\n",
    "        (f.col(\"nl_kod_lecby_1\").isin(nl_target)\n",
    "        | f.col(\"nl_kod_lecby_2\").isin(nl_target)\n",
    "        | f.col(\"nl_kod_lecby_3\").isin(nl_target)\n",
    "        | f.col(\"nl_kod_lecby_4\").isin(nl_target)\n",
    "        | f.col(\"nl_kod_lecby_5\").isin(nl_target)\n",
    "        | f.col(\"nl_kod_lecby_6\").isin(nl_target)\n",
    "        | f.col(\"nl_kod_lecby_7\").isin(nl_target)\n",
    "        | f.col(\"nl_kod_lecby_8\").isin(nl_target)\n",
    "        | f.col(\"nl_kod_lecby_9\").isin(nl_target)\n",
    "        | f.col(\"nl_kod_lecby_10\").isin(nl_target))\n",
    "        &(f.col(\"stadium\")!= 4),\n",
    "        1)\n",
    "    .otherwise(0)\n",
    ")\n",
    "    .withColumn(\"relaps_5_years\",f.when((f.col(\"pl_nl\") < 5 * 365) \n",
    "                                        & (f.col(\"new_relaps\") == 1)\n",
    "                                        & (f.col(\"observed_time_window\") == 1),1)\n",
    "                                .when((f.col(\"observed_time_window\") == 1) \n",
    "                                      & ((f.col(\"new_relaps\") == 0)\n",
    "                                      | (f.col(\"pl_nl\") >= 5 * 365)) , 0)\n",
    "                                .otherwise(None)\n",
    "                                )\n",
    "    .withColumn(\"dead_relaps_5_years\", \n",
    "                f.when((f.col(\"dead_5_years_bc\") == 1)|(f.col(\"relaps_5_years\") == 1),1)\n",
    "                .when((f.col(\"dead_5_years_bc\") == 0)&(f.col(\"relaps_5_years\") == 0),0)\n",
    "                .otherwise(None)\n",
    "                )\n",
    "    \n",
    "    )\n",
    "display(rekurze_recidiva_cleansed_nl_death_relaps_censured)"
   ]
  },
  {
   "cell_type": "code",
   "execution_count": 0,
   "metadata": {
    "application/vnd.databricks.v1+cell": {
     "cellMetadata": {
      "byteLimit": 2048000,
      "rowLimit": 10000
     },
     "inputWidgets": {},
     "nuid": "7be96443-d633-48c2-a9b5-2ed460f6fcc5",
     "showTitle": false,
     "tableResultSettingsMap": {},
     "title": ""
    }
   },
   "outputs": [],
   "source": [
    "(rekurze_recidiva_cleansed_nl_death_relaps_censured.filter(f.col(\"relaps_5_years\")==1)).count()"
   ]
  },
  {
   "cell_type": "code",
   "execution_count": 0,
   "metadata": {
    "application/vnd.databricks.v1+cell": {
     "cellMetadata": {
      "byteLimit": 2048000,
      "rowLimit": 10000
     },
     "inputWidgets": {},
     "nuid": "5718dcdd-4f44-4af0-9f3f-0aeb97b264b1",
     "showTitle": false,
     "tableResultSettingsMap": {},
     "title": ""
    }
   },
   "outputs": [],
   "source": [
    "(rekurze_recidiva_cleansed_nl_death_relaps.filter(f.col(\"relaps_5_years\")==1)).count()"
   ]
  },
  {
   "cell_type": "code",
   "execution_count": 0,
   "metadata": {
    "application/vnd.databricks.v1+cell": {
     "cellMetadata": {
      "byteLimit": 2048000,
      "rowLimit": 10000
     },
     "inputWidgets": {},
     "nuid": "e94b7e02-2dc0-4ce9-b7dc-ada2bf32f798",
     "showTitle": false,
     "tableResultSettingsMap": {},
     "title": ""
    }
   },
   "outputs": [],
   "source": [
    "#rekurze_recidiva_cleansed_nl_death_relaps_censured.write.mode(\"overwrite\").option(\"mergeSchema\", \"true\").saveAsTable(\"rakathon_hackathon.rekurze.rekurze_death_initial_set_censured_oprava\")"
   ]
  }
 ],
 "metadata": {
  "application/vnd.databricks.v1+notebook": {
   "computePreferences": null,
   "dashboards": [],
   "environmentMetadata": {
    "base_environment": "",
    "environment_version": "2"
   },
   "inputWidgetPreferences": null,
   "language": "python",
   "notebookMetadata": {
    "pythonIndentUnit": 4
   },
   "notebookName": "ETL df BC death",
   "widgets": {}
  },
  "language_info": {
   "name": "python"
  }
 },
 "nbformat": 4,
 "nbformat_minor": 0
}
